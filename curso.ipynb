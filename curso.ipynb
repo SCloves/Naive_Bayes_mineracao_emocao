{
 "cells": [
  {
   "cell_type": "code",
   "execution_count": 1,
   "metadata": {
    "collapsed": true
   },
   "outputs": [],
   "source": [
    "import nltk"
   ]
  },
  {
   "cell_type": "markdown",
   "metadata": {},
   "source": [
    "# Remoção das stopwords"
   ]
  },
  {
   "cell_type": "code",
   "execution_count": 2,
   "metadata": {
    "collapsed": true
   },
   "outputs": [],
   "source": [
    "base = [('eu sou admirada por muitos','alegria'),\n",
    "        ('me sinto completamente amado','alegria'),\n",
    "        ('amar e maravilhoso','alegria'),\n",
    "        ('estou me sentindo muito animado novamente','alegria'),\n",
    "        ('eu estou muito bem hoje','alegria'),\n",
    "        ('que belo dia para dirigir um carro novo','alegria'),\n",
    "        ('o dia está muito bonito','alegria'),\n",
    "        ('estou contente com o resultado do teste que fiz no dia de ontem','alegria'),\n",
    "        ('o amor e lindo','alegria'),\n",
    "        ('nossa amizade e amor vai durar para sempre', 'alegria'),\n",
    "        ('estou amedrontado', 'medo'),\n",
    "        ('ele esta me ameacando a dias', 'medo'),\n",
    "        ('isso me deixa apavorada', 'medo'),\n",
    "        ('este lugar e apavorante', 'medo'),\n",
    "        ('se perdermos outro jogo seremos eliminados e isso me deixa com pavor', 'medo'),\n",
    "        ('tome cuidado com o lobisomem', 'medo'),\n",
    "        ('se eles descobrirem estamos encrencados', 'medo'),\n",
    "        ('estou tremendo de medo', 'medo'),\n",
    "        ('eu tenho muito medo dele', 'medo'),\n",
    "        ('estou com medo do resultado dos meus testes', 'medo')]\n",
    "\n",
    "\n",
    "stopwords = ['a', 'agora', 'algum', 'alguma', 'aquele', 'aqueles', 'de', 'deu', 'do', 'e', 'estou', 'esta', 'esta',\n",
    "             'ir', 'meu', 'muito', 'mesmo', 'no', 'nossa', 'o', 'outro', 'para', 'que', 'sem', 'talvez', 'tem', 'tendo',\n",
    "             'tenha', 'teve', 'tive', 'todo', 'um', 'uma', 'umas', 'uns', 'vou']"
   ]
  },
  {
   "cell_type": "code",
   "execution_count": 3,
   "metadata": {
    "collapsed": true
   },
   "outputs": [],
   "source": [
    "def remove_stopwords(texto):\n",
    "    frases_sem_stopwords = []\n",
    "    for (frase, emocao) in texto:\n",
    "        sem_stopwords = [palavra for palavra in frase.split() if palavra not in stopwords]\n",
    "        frases_sem_stopwords.append((sem_stopwords, emocao))\n",
    "    \n",
    "    return frases_sem_stopwords"
   ]
  },
  {
   "cell_type": "code",
   "execution_count": 4,
   "metadata": {
    "collapsed": false
   },
   "outputs": [],
   "source": [
    "sem_stopwords = remove_stopwords(base)"
   ]
  },
  {
   "cell_type": "code",
   "execution_count": 5,
   "metadata": {
    "collapsed": false
   },
   "outputs": [
    {
     "name": "stdout",
     "output_type": "stream",
     "text": [
      "[(['eu', 'sou', 'admirada', 'por', 'muitos'], 'alegria'), (['me', 'sinto', 'completamente', 'amado'], 'alegria'), (['amar', 'maravilhoso'], 'alegria'), (['me', 'sentindo', 'animado', 'novamente'], 'alegria'), (['eu', 'bem', 'hoje'], 'alegria'), (['belo', 'dia', 'dirigir', 'carro', 'novo'], 'alegria'), (['dia', 'est\\xc3\\xa1', 'bonito'], 'alegria'), (['contente', 'com', 'resultado', 'teste', 'fiz', 'dia', 'ontem'], 'alegria'), (['amor', 'lindo'], 'alegria'), (['amizade', 'amor', 'vai', 'durar', 'sempre'], 'alegria'), (['amedrontado'], 'medo'), (['ele', 'me', 'ameacando', 'dias'], 'medo'), (['isso', 'me', 'deixa', 'apavorada'], 'medo'), (['este', 'lugar', 'apavorante'], 'medo'), (['se', 'perdermos', 'jogo', 'seremos', 'eliminados', 'isso', 'me', 'deixa', 'com', 'pavor'], 'medo'), (['tome', 'cuidado', 'com', 'lobisomem'], 'medo'), (['se', 'eles', 'descobrirem', 'estamos', 'encrencados'], 'medo'), (['tremendo', 'medo'], 'medo'), (['eu', 'tenho', 'medo', 'dele'], 'medo'), (['com', 'medo', 'resultado', 'dos', 'meus', 'testes'], 'medo')]\n"
     ]
    }
   ],
   "source": [
    "print(sem_stopwords)"
   ]
  },
  {
   "cell_type": "code",
   "execution_count": 6,
   "metadata": {
    "collapsed": true
   },
   "outputs": [],
   "source": [
    "# melhor chamar uma lista de stopwords \n",
    "# mais completa no nltk\n",
    "\n",
    "stopwordsNLTK = nltk.corpus.stopwords.words('portuguese')"
   ]
  },
  {
   "cell_type": "code",
   "execution_count": 7,
   "metadata": {
    "collapsed": false
   },
   "outputs": [],
   "source": [
    "def remove_stopwords(texto):\n",
    "    frases_sem_stopwords = []\n",
    "    for (frase, emocao) in texto:\n",
    "        sem_stopwords = [palavra for palavra in frase.split() if palavra not in stopwordsNLTK]\n",
    "        frases_sem_stopwords.append((sem_stopwords, emocao))\n",
    "    \n",
    "    return frases_sem_stopwords"
   ]
  },
  {
   "cell_type": "code",
   "execution_count": 8,
   "metadata": {
    "collapsed": false
   },
   "outputs": [
    {
     "name": "stderr",
     "output_type": "stream",
     "text": [
      "/home/cloves/anaconda2/lib/python2.7/site-packages/ipykernel/__main__.py:4: UnicodeWarning: Unicode equal comparison failed to convert both arguments to Unicode - interpreting them as being unequal\n"
     ]
    }
   ],
   "source": [
    "sem_stopwords = remove_stopwords(base)"
   ]
  },
  {
   "cell_type": "code",
   "execution_count": 10,
   "metadata": {
    "collapsed": false
   },
   "outputs": [
    {
     "name": "stdout",
     "output_type": "stream",
     "text": [
      "[(['admirada', 'muitos'], 'alegria'), (['sinto', 'completamente', 'amado'], 'alegria'), (['amar', 'maravilhoso'], 'alegria'), (['sentindo', 'animado', 'novamente'], 'alegria'), (['bem', 'hoje'], 'alegria'), (['belo', 'dia', 'dirigir', 'carro', 'novo'], 'alegria'), (['dia', 'est\\xc3\\xa1', 'bonito'], 'alegria'), (['contente', 'resultado', 'teste', 'fiz', 'dia', 'ontem'], 'alegria'), (['amor', 'lindo'], 'alegria'), (['amizade', 'amor', 'vai', 'durar', 'sempre'], 'alegria'), (['amedrontado'], 'medo'), (['ameacando', 'dias'], 'medo'), (['deixa', 'apavorada'], 'medo'), (['lugar', 'apavorante'], 'medo'), (['perdermos', 'outro', 'jogo', 'eliminados', 'deixa', 'pavor'], 'medo'), (['tome', 'cuidado', 'lobisomem'], 'medo'), (['descobrirem', 'encrencados'], 'medo'), (['tremendo', 'medo'], 'medo'), (['medo'], 'medo'), (['medo', 'resultado', 'testes'], 'medo')]\n"
     ]
    }
   ],
   "source": [
    "print(sem_stopwords)"
   ]
  },
  {
   "cell_type": "markdown",
   "metadata": {},
   "source": [
    "# Estração do Radical (Stemmer)\n",
    "\n",
    "<img src='radical.png'>"
   ]
  },
  {
   "cell_type": "code",
   "execution_count": 11,
   "metadata": {
    "collapsed": true
   },
   "outputs": [],
   "source": [
    "def aplicar_stemmer(texto):\n",
    "    stemmer = nltk.stem.RSLPStemmer()\n",
    "    frases = []\n",
    "    \n",
    "    for (frase, emocao) in sem_stopwords:\n",
    "        \n",
    "        com_stemmer = [stemmer.stem(palavra) for palavra in frase]\n",
    "        \n",
    "        frases.append((com_stemmer, emocao))\n",
    "        \n",
    "    return frases\n",
    "    "
   ]
  },
  {
   "cell_type": "code",
   "execution_count": 12,
   "metadata": {
    "collapsed": false
   },
   "outputs": [
    {
     "name": "stderr",
     "output_type": "stream",
     "text": [
      "/home/cloves/anaconda2/lib/python2.7/site-packages/nltk/stem/rslp.py:103: UnicodeWarning: Unicode equal comparison failed to convert both arguments to Unicode - interpreting them as being unequal\n",
      "  if word[-1] == \"s\":\n",
      "/home/cloves/anaconda2/lib/python2.7/site-packages/nltk/stem/rslp.py:107: UnicodeWarning: Unicode equal comparison failed to convert both arguments to Unicode - interpreting them as being unequal\n",
      "  if word[-1] == \"a\":\n",
      "/home/cloves/anaconda2/lib/python2.7/site-packages/nltk/stem/rslp.py:133: UnicodeWarning: Unicode equal comparison failed to convert both arguments to Unicode - interpreting them as being unequal\n",
      "  if word[-suffix_length:] == rule[0]:       # if suffix matches\n"
     ]
    }
   ],
   "source": [
    "frases = aplicar_stemmer(sem_stopwords)"
   ]
  },
  {
   "cell_type": "code",
   "execution_count": 13,
   "metadata": {
    "collapsed": false
   },
   "outputs": [
    {
     "name": "stdout",
     "output_type": "stream",
     "text": [
      "[([u'admir', u'muit'], 'alegria'), ([u'sint', u'complet', u'am'], 'alegria'), ([u'am', u'maravilh'], 'alegria'), ([u'sent', u'anim', u'nov'], 'alegria'), (['bem', u'hoj'], 'alegria'), ([u'bel', 'dia', u'dirig', u'carr', u'nov'], 'alegria'), (['dia', 'est\\xc3\\xa1', u'bonit'], 'alegria'), ([u'cont', u'result', u'test', 'fiz', 'dia', u'ont'], 'alegria'), ([u'am', u'lind'], 'alegria'), ([u'amizad', u'am', 'vai', u'dur', u'sempr'], 'alegria'), ([u'amedront'], 'medo'), ([u'ameac', u'dia'], 'medo'), ([u'deix', u'apavor'], 'medo'), ([u'lug', u'apavor'], 'medo'), ([u'perd', u'outr', u'jog', u'elimin', u'deix', u'pav'], 'medo'), ([u'tom', u'cuid', u'lobisom'], 'medo'), ([u'descobr', u'encrenc'], 'medo'), ([u'trem', u'med'], 'medo'), ([u'med'], 'medo'), ([u'med', u'result', u'test'], 'medo')]\n"
     ]
    }
   ],
   "source": [
    "print(frases)"
   ]
  },
  {
   "cell_type": "markdown",
   "metadata": {},
   "source": [
    "# Criando lista de todas as palavras na minha base "
   ]
  },
  {
   "cell_type": "code",
   "execution_count": 14,
   "metadata": {
    "collapsed": true
   },
   "outputs": [],
   "source": [
    "def lista_todas_as_palavras(frases):\n",
    "    todas_palavras = []\n",
    "    for (palavras, _) in frases:\n",
    "        todas_palavras.extend(palavras)\n",
    "        \n",
    "    return todas_palavras"
   ]
  },
  {
   "cell_type": "code",
   "execution_count": 15,
   "metadata": {
    "collapsed": true
   },
   "outputs": [],
   "source": [
    "todas_palavras = lista_todas_as_palavras(frases)"
   ]
  },
  {
   "cell_type": "code",
   "execution_count": 16,
   "metadata": {
    "collapsed": false
   },
   "outputs": [
    {
     "name": "stdout",
     "output_type": "stream",
     "text": [
      "[u'admir', u'muit', u'sint', u'complet', u'am', u'am', u'maravilh', u'sent', u'anim', u'nov', 'bem', u'hoj', u'bel', 'dia', u'dirig', u'carr', u'nov', 'dia', 'est\\xc3\\xa1', u'bonit', u'cont', u'result', u'test', 'fiz', 'dia', u'ont', u'am', u'lind', u'amizad', u'am', 'vai', u'dur', u'sempr', u'amedront', u'ameac', u'dia', u'deix', u'apavor', u'lug', u'apavor', u'perd', u'outr', u'jog', u'elimin', u'deix', u'pav', u'tom', u'cuid', u'lobisom', u'descobr', u'encrenc', u'trem', u'med', u'med', u'med', u'result', u'test']\n"
     ]
    }
   ],
   "source": [
    "print(todas_palavras)"
   ]
  },
  {
   "cell_type": "markdown",
   "metadata": {
    "collapsed": true
   },
   "source": [
    "# Extração de Palavras Únicas"
   ]
  },
  {
   "cell_type": "code",
   "execution_count": 17,
   "metadata": {
    "collapsed": true
   },
   "outputs": [],
   "source": [
    "def busca_frequencia(palavras):\n",
    "    return nltk.FreqDist(palavras)"
   ]
  },
  {
   "cell_type": "code",
   "execution_count": 18,
   "metadata": {
    "collapsed": true
   },
   "outputs": [],
   "source": [
    "frequencia = busca_frequencia(todas_palavras)"
   ]
  },
  {
   "cell_type": "code",
   "execution_count": 19,
   "metadata": {
    "collapsed": false
   },
   "outputs": [
    {
     "name": "stdout",
     "output_type": "stream",
     "text": [
      "[(u'am', 4), ('dia', 4), (u'med', 3), (u'result', 2), (u'test', 2), (u'apavor', 2), (u'nov', 2), (u'deix', 2), (u'ameac', 1), (u'cont', 1), (u'amizad', 1), (u'muit', 1), (u'tom', 1), (u'bonit', 1), (u'cuid', 1), (u'ont', 1), (u'encrenc', 1), (u'outr', 1), ('vai', 1), (u'pav', 1), (u'perd', 1), ('fiz', 1), (u'maravilh', 1), (u'hoj', 1), (u'lobisom', 1), (u'lug', 1), (u'dur', 1), (u'amedront', 1), (u'sent', 1), (u'complet', 1), (u'elimin', 1), (u'anim', 1), (u'sempr', 1), (u'carr', 1), (u'sint', 1), ('est\\xc3\\xa1', 1), (u'jog', 1), (u'lind', 1), (u'trem', 1), (u'bel', 1), ('bem', 1), (u'descobr', 1), (u'admir', 1), (u'dirig', 1)]\n"
     ]
    }
   ],
   "source": [
    "print(frequencia.most_common(50))"
   ]
  },
  {
   "cell_type": "code",
   "execution_count": 20,
   "metadata": {
    "collapsed": true
   },
   "outputs": [],
   "source": [
    "def busca_palavras_unicas(frequencia):\n",
    "    return frequencia.keys()"
   ]
  },
  {
   "cell_type": "code",
   "execution_count": 21,
   "metadata": {
    "collapsed": true
   },
   "outputs": [],
   "source": [
    "palavras_unicas = busca_palavras_unicas(frequencia)"
   ]
  },
  {
   "cell_type": "code",
   "execution_count": 22,
   "metadata": {
    "collapsed": false
   },
   "outputs": [
    {
     "name": "stdout",
     "output_type": "stream",
     "text": [
      "[u'ameac', u'cont', u'amizad', u'am', u'muit', u'tom', u'bonit', u'result', u'cuid', u'ont', u'encrenc', u'outr', 'vai', u'pav', u'perd', 'fiz', u'maravilh', u'hoj', u'lobisom', u'lug', u'test', u'dur', u'amedront', u'sent', u'complet', u'med', u'elimin', u'anim', u'sempr', u'carr', u'sint', u'apavor', 'est\\xc3\\xa1', u'jog', u'nov', u'lind', u'trem', u'bel', 'bem', 'dia', u'descobr', u'admir', u'dirig', u'deix']\n"
     ]
    }
   ],
   "source": [
    "print(palavras_unicas)"
   ]
  },
  {
   "cell_type": "markdown",
   "metadata": {},
   "source": [
    "# Extração das palavras de cada frase"
   ]
  },
  {
   "cell_type": "code",
   "execution_count": 23,
   "metadata": {
    "collapsed": true
   },
   "outputs": [],
   "source": [
    "def extrator_palavras(documento):\n",
    "    doc = set(documento)\n",
    "    caracteristicas = {}\n",
    "    for palavras in palavras_unicas:\n",
    "        caracteristicas['%s' %palavras] = (palavras in doc)\n",
    "        \n",
    "    return caracteristicas"
   ]
  },
  {
   "cell_type": "code",
   "execution_count": 24,
   "metadata": {
    "collapsed": false
   },
   "outputs": [],
   "source": [
    "caracteriscas_frase = extrator_palavras(['am', 'nov', 'dia'])"
   ]
  },
  {
   "cell_type": "code",
   "execution_count": 25,
   "metadata": {
    "collapsed": false
   },
   "outputs": [
    {
     "name": "stdout",
     "output_type": "stream",
     "text": [
      "{u'deix': False, u'ameac': False, u'cont': False, u'amizad': False, u'am': True, u'muit': False, u'bonit': False, u'result': False, u'cuid': False, u'ont': False, u'encrenc': False, u'outr': False, 'vai': False, u'pav': False, u'perd': False, 'fiz': False, u'maravilh': False, u'hoj': False, u'carr': False, u'lug': False, u'test': False, u'dur': False, u'amedront': False, u'sent': False, u'complet': False, u'apavor': False, u'med': False, u'elimin': False, u'anim': False, u'sempr': False, u'lobisom': False, u'sint': False, u'tom': False, 'est\\xc3\\xa1': False, u'jog': False, u'nov': True, u'lind': False, u'trem': False, u'bel': False, 'bem': False, 'dia': True, u'admir': False, u'dirig': False, u'descobr': False}\n"
     ]
    }
   ],
   "source": [
    "print(caracteriscas_frase)"
   ]
  },
  {
   "cell_type": "markdown",
   "metadata": {},
   "source": [
    "# Extração de Palavras de Todas as Frases"
   ]
  },
  {
   "cell_type": "code",
   "execution_count": 26,
   "metadata": {
    "collapsed": true
   },
   "outputs": [],
   "source": [
    "basecompleta = nltk.classify.apply_features(extrator_palavras, frases)"
   ]
  },
  {
   "cell_type": "code",
   "execution_count": 27,
   "metadata": {
    "collapsed": false
   },
   "outputs": [
    {
     "name": "stdout",
     "output_type": "stream",
     "text": [
      "({u'deix': False, u'ameac': False, u'cont': False, u'amizad': False, u'am': False, u'muit': True, u'bonit': False, u'result': False, u'cuid': False, u'ont': False, u'encrenc': False, u'outr': False, 'vai': False, u'pav': False, u'perd': False, 'fiz': False, u'maravilh': False, u'hoj': False, u'carr': False, u'lug': False, u'test': False, u'dur': False, u'amedront': False, u'sent': False, u'complet': False, u'apavor': False, u'med': False, u'elimin': False, u'anim': False, u'sempr': False, u'lobisom': False, u'sint': False, u'tom': False, 'est\\xc3\\xa1': False, u'jog': False, u'nov': False, u'lind': False, u'trem': False, u'bel': False, 'bem': False, 'dia': False, u'admir': True, u'dirig': False, u'descobr': False}, 'alegria')\n"
     ]
    }
   ],
   "source": [
    "print basecompleta[0]"
   ]
  },
  {
   "cell_type": "markdown",
   "metadata": {
    "collapsed": true
   },
   "source": [
    "# Aplicando Naive Bayes"
   ]
  },
  {
   "cell_type": "code",
   "execution_count": 28,
   "metadata": {
    "collapsed": true
   },
   "outputs": [],
   "source": [
    "classificador = nltk.NaiveBayesClassifier.train(basecompleta)"
   ]
  },
  {
   "cell_type": "code",
   "execution_count": 29,
   "metadata": {
    "collapsed": false
   },
   "outputs": [
    {
     "data": {
      "text/plain": [
       "['alegria', 'medo']"
      ]
     },
     "execution_count": 29,
     "metadata": {},
     "output_type": "execute_result"
    }
   ],
   "source": [
    "classificador.labels()"
   ]
  },
  {
   "cell_type": "code",
   "execution_count": 30,
   "metadata": {
    "collapsed": false
   },
   "outputs": [
    {
     "name": "stdout",
     "output_type": "stream",
     "text": [
      "Most Informative Features\n",
      "                     dia = True           alegri : medo   =      2.3 : 1.0\n",
      "                      am = False            medo : alegri =      1.6 : 1.0\n",
      "                     med = False          alegri : medo   =      1.4 : 1.0\n",
      "                     dia = False            medo : alegri =      1.3 : 1.0\n",
      "                     nov = False            medo : alegri =      1.2 : 1.0\n"
     ]
    }
   ],
   "source": [
    "classificador.show_most_informative_features(5)"
   ]
  },
  {
   "cell_type": "code",
   "execution_count": 31,
   "metadata": {
    "collapsed": true
   },
   "outputs": [],
   "source": [
    "teste = \"estou com medo\""
   ]
  },
  {
   "cell_type": "code",
   "execution_count": 32,
   "metadata": {
    "collapsed": true
   },
   "outputs": [],
   "source": [
    "# vamos aplicar o stemmer manualmente\n",
    "def preditor(frase):\n",
    "    testestmmer = []\n",
    "    stmmer  = nltk.RSLPStemmer()\n",
    "    for palavra in frase.split():\n",
    "        testestmmer.append(stmmer.stem(palavra))\n",
    "    \n",
    "    novo = extrator_palavras(testestmmer)\n",
    "    print 'A frase é de ' + classificador.classify(novo) + '\\n'\n",
    "    \n",
    "    distribuicao = classificador.prob_classify(novo)\n",
    "    for classe in distribuicao.samples():\n",
    "        print \"%s: %f\" %(classe, distribuicao.prob(classe))"
   ]
  },
  {
   "cell_type": "code",
   "execution_count": 33,
   "metadata": {
    "collapsed": false
   },
   "outputs": [
    {
     "name": "stdout",
     "output_type": "stream",
     "text": [
      "A frase é de medo\n",
      "\n",
      "alegria: 0.037283\n",
      "medo: 0.962717\n"
     ]
    }
   ],
   "source": [
    "preditor('estou com medo')"
   ]
  },
  {
   "cell_type": "code",
   "execution_count": 34,
   "metadata": {
    "collapsed": false
   },
   "outputs": [
    {
     "name": "stdout",
     "output_type": "stream",
     "text": [
      "A frase é de alegria\n",
      "\n",
      "alegria: 0.528678\n",
      "medo: 0.471322\n"
     ]
    }
   ],
   "source": [
    "preditor('que dia feliz')"
   ]
  },
  {
   "cell_type": "code",
   "execution_count": 35,
   "metadata": {
    "collapsed": false
   },
   "outputs": [
    {
     "name": "stdout",
     "output_type": "stream",
     "text": [
      "A frase é de alegria\n",
      "\n",
      "alegria: 0.557210\n",
      "medo: 0.442790\n"
     ]
    }
   ],
   "source": [
    "preditor('estou muito feliz')"
   ]
  },
  {
   "cell_type": "code",
   "execution_count": 36,
   "metadata": {
    "collapsed": false
   },
   "outputs": [
    {
     "name": "stdout",
     "output_type": "stream",
     "text": [
      "A frase é de medo\n",
      "\n",
      "alegria: 0.275110\n",
      "medo: 0.724890\n"
     ]
    }
   ],
   "source": [
    "preditor('que coisa assustadora')"
   ]
  },
  {
   "cell_type": "code",
   "execution_count": 37,
   "metadata": {
    "collapsed": false
   },
   "outputs": [
    {
     "name": "stdout",
     "output_type": "stream",
     "text": [
      "A frase é de medo\n",
      "\n",
      "alegria: 0.275110\n",
      "medo: 0.724890\n"
     ]
    }
   ],
   "source": [
    "preditor(\"felizmente deu tudo certo\")"
   ]
  },
  {
   "cell_type": "markdown",
   "metadata": {
    "collapsed": true
   },
   "source": [
    "# Base Maior"
   ]
  },
  {
   "cell_type": "code",
   "execution_count": 79,
   "metadata": {
    "collapsed": true
   },
   "outputs": [],
   "source": [
    "basetreinamento = [\n",
    "(u'este trabalho e agradável','alegria'),\n",
    "(u'gosto de ficar no seu aconchego','alegria'),\n",
    "(u'fiz a adesão ao curso hoje','alegria'),\n",
    "(u'eu sou admirada por muitos','alegria'),\n",
    "(u'adoro como você e','alegria'),\n",
    "(u'adoro seu cabelo macio','alegria'),\n",
    "(u'adoro a cor dos seus olhos','alegria'),\n",
    "(u'somo tão amáveis um com o outro','alegria'),\n",
    "(u'sinto uma grande afeição por ele','alegria'),\n",
    "(u'quero agradar meus filhos','alegria'),\n",
    "(u'me sinto completamente amado','alegria'),\n",
    "(u'eu amo você','alegria'),\n",
    "(u'que grande alivio','alegria'),\n",
    "(u'a dor esta amenizando finalmente','alegria'),\n",
    "(u'acho que me apaixonei','alegria'),\n",
    "(u'amar e maravilhoso','alegria'),\n",
    "(u'estou me sentindo muito animada','alegria'),\n",
    "(u'me sinto muito bem hoje','alegria'),\n",
    "(u'como o luar e belo','alegria'),\n",
    "(u'o dia esta muito bonito','alegria'),\n",
    "(u'nossa como sou afortunado','alegria'),\n",
    "(u'as maravilhas do mundo','alegria'),\n",
    "(u'recebi muito carinho hoje do meus colegas','alegria'),\n",
    "(u'estou me sentindo reconfortada hoje','alegria'),\n",
    "(u'e muito bom estar com os amigos','alegria'),\n",
    "(u'estou muito contente com o resultado dos testes','alegria'),\n",
    "(u'essa pintura esta bem brilhante','alegria'),\n",
    "(u'temos água em abundancia','alegria'),\n",
    "(u'que roupa delicada','alegria'),\n",
    "(u'você e um grande comediante','alegria'),\n",
    "(u'que bondade a sua em vir aqui','alegria'),\n",
    "(u'o amor e lindo','alegria'),\n",
    "(u'nossa amizade vai durar para sempre','alegria'),\n",
    "(u'estou eufórica com a noticia','alegria'),\n",
    "(u'ele e realmente fiel a mim','alegria'),\n",
    "(u'vou dar uma grande festa para comemorar meu aniversário','alegria'),\n",
    "(u'graças a deus que eu enxerguei o certo','alegria'),\n",
    "(u'essa e a melhor escolhas de todas','alegria'),\n",
    "(u'o mais incrível e você minha bela','alegria'),\n",
    "(u'e tão engraçado tentar explicar','alegria'),\n",
    "(u'e emocionante estar neste lugar','alegria'),\n",
    "(u'estou cativada pelo seu olhar','alegria'),\n",
    "(u'estou loucamente apaixonada','alegria'),\n",
    "(u'eu nunca tive duvidas','alegria'),\n",
    "(u'estou rodeada pelo seu abraço','alegria'),\n",
    "(u'eu vejo estrelas pelo caminho','alegria'),\n",
    "(u'eu sinto o sol sempre que você esta por perto','alegria'),\n",
    "(u'eu estou sorrindo de orelha a orelha','alegria'),\n",
    "(u'isso vale a pena','alegria'),\n",
    "(u'finalmente você colocou meu amor em primeiro lugar','alegria'),\n",
    "(u'nós dançamos noite adentro','alegria'),\n",
    "(u'seu amor e brilhante','alegria'),\n",
    "(u'toquei muitos corações durante o meu caminho','alegria'),\n",
    "(u'eu serei sua amiga e companheira','alegria'),\n",
    "(u'você me traz de volta a vida','alegria'),\n",
    "(u'você e como um sonho doce','alegria'),\n",
    "(u'adoro este doce de frutas','alegria'),\n",
    "(u'meu suco favorito','alegria'),\n",
    "(u'estou agradecida pela ajuda','alegria'),\n",
    "(u'e um enorme prazer ter você em nossa equipe','alegria'),\n",
    "(u'trabalhar em equipe e o melhor','alegria'),\n",
    "(u'me sinto flutuando no ar','alegria'),\n",
    "(u'a brisa esta agradável hoje','alegria'),\n",
    "(u'ótimo e compatível','alegria'),\n",
    "(u'somos compatíveis um com o outro','alegria'),\n",
    "(u'o órgão e compatível com o paciente','alegria'),\n",
    "(u'estou contente fui aceita na faculdade','alegria'),\n",
    "(u'fui aprovada no meu exame','alegria'),\n",
    "(u'fui beneficiada pela minha empresa','alegria'),\n",
    "(u'eu sou muito cativante','alegria'),\n",
    "(u'estou contente com o apoio','alegria'),\n",
    "(u'como este lugar e confortável','alegria'),\n",
    "(u'e bom estar quente neste frio','alegria'),\n",
    "(u'um elogio nunca e demais','alegria'),\n",
    "(u'vou te chamar para comemorar','alegria'),\n",
    "(u'e desejável a sua presença em nossa apresentação','alegria'),\n",
    "(u'sou muito grata a você','alegria'),\n",
    "(u'me dedico muito naquilo que faço','alegria'),\n",
    "(u'estou completamente apaixonada ','alegria'),\n",
    "(u'vamos agitar essa noite ','alegria'),\n",
    "(u'você significa muito para mim','alegria'),\n",
    "(u'vamos agir sem preconceitos e julgamentos','alegria'),\n",
    "(u'finalmente completei a minha coleção, maravilhoso','alegria'),\n",
    "(u'eu sou sua rainha ','alegria'),\n",
    "(u'satisfatoriamente eu anuncio o vencedor dos jogos','alegria'),\n",
    "(u'você me atrai facilmente ','alegria'),\n",
    "(u'aquele rapaz e extremamente atraente','alegria'),\n",
    "(u'sinto-me viva ','alegria'),\n",
    "(u'sinto-me em paz ','alegria'),\n",
    "(u'estamos tendo muito lucro','alegria'),\n",
    "(u'muito bem esta tudo em ordem agora ','alegria'),\n",
    "(u'podemos arrumar um emprego juntos ','alegria'),\n",
    "(u'a arrumação esta terminada, que alívio','alegria'),\n",
    "(u'o câncer e benigno ','alegria'),\n",
    "(u'o amor e abundante','alegria'),\n",
    "(u'vamos ser caridosos este natal','alegria'),\n",
    "(u'com todo esse charme você irá atrair a todos','alegria'),\n",
    "(u'nossa como você e charmoso querido ','alegria'),\n",
    "(u'sou querida pelos meu amigos','alegria'),\n",
    "(u'seja cuidadoso com os meus sentimentos','alegria'),\n",
    "(u'estou comovido com tamanha caridade','alegria'),\n",
    "(u'um chá quente e reconfortante','alegria'),\n",
    "(u'que alegria ter vocês aqui ','alegria'),\n",
    "(u'vamos aplaudir o vencedor ','alegria'),\n",
    "(u'palmas para a aniversariante','alegria'),\n",
    "(u'desejo a você tudo de bom','alegria'),\n",
    "(u'hora de apreciar um bom vinho','alegria'),\n",
    "(u'aprecio sua presença em minha escola','alegria'),\n",
    "(u'anseio por seus próximos trabalhos','alegria'),\n",
    "(u'maravilhoso jogo amistoso','alegria'),\n",
    "(u'e ótimo que os ânimos tenham se apaziguado','alegria'),\n",
    "(u'concretizei finalmente meu sonho','alegria'),\n",
    "\n",
    "(u'você e abominável','desgosto'),\n",
    "(u'abomino a maneira como você age','desgosto'),\n",
    "(u'estou adoentado','desgosto'),\n",
    "(u'meu pai esta adoentado','desgosto'),\n",
    "(u'estamos todos doentes','desgosto'),\n",
    "(u'essa situação e muito amarga','desgosto'),\n",
    "(u'disse adeus amargamente','desgosto'),\n",
    "(u'tenho antipatia por aquela pessoa','desgosto'),\n",
    "(u'como pode ser tão antipática!','desgosto'),\n",
    "(u'que horrível seu asqueroso','desgosto'),\n",
    "(u'tenho aversão agente como você','desgosto'),\n",
    "(u'isso tudo e só chateação','desgosto'),\n",
    "(u'estou muito chateada com suas mentiras','desgosto'),\n",
    "(u'tão desagradável','desgosto'),\n",
    "(u'isso me desagrada completamente','desgosto'),\n",
    "(u'te desagrada isso','desgosto'),\n",
    "(u'estou com enjôos terríveis','desgosto'),\n",
    "(u'todos estão enfermos','desgosto'),\n",
    "(u'foi uma enfermidade terrível','desgosto'),\n",
    "(u'isso e muito grave','desgosto'),\n",
    "(u'não seja tão grosseiro','desgosto'),\n",
    "(u'você fez uma manobra ilegal','desgosto'),\n",
    "(u'sua indecente, não tem vergonha?','desgosto'),\n",
    "(u'você e malvado com as crianças','desgosto'),\n",
    "(u'que comentário maldoso','desgosto'),\n",
    "(u'sem escrúpulos você manipula a tudo','desgosto'),\n",
    "(u'sinto repulsa por você','desgosto'),\n",
    "(u'e repulsivo a maneira como olha para as pessoas','desgosto'),\n",
    "(u'estou indisposta','desgosto'),\n",
    "(u'a indisposição me atacou hoje','desgosto'),\n",
    "(u'acho que vou vomitar','desgosto'),\n",
    "(u'tem muito vomito lá','desgosto'),\n",
    "(u'que incomodo essa dor','desgosto'),\n",
    "(u'não me incomode nunca mais','desgosto'),\n",
    "(u'suas bobagens estão nos incomodando','desgosto'),\n",
    "(u'que nojo olha toda essa sujeira','desgosto'),\n",
    "(u'como isso está sujo','desgosto'),\n",
    "(u'tenho náuseas só de lembrar','desgosto'),\n",
    "(u'me sinto nauseada com o cheiro desta comida','desgosto'),\n",
    "(u'você esta obstruindo a passagem de ar','desgosto'),\n",
    "(u'você esta terrivelmente doente','desgosto'),\n",
    "(u'olhe que feia esta roupa','desgosto'),\n",
    "(u'que atitude deplorável','desgosto'),\n",
    "(u'nossa como você e feio','desgosto'),\n",
    "(u'muito mau tudo isso','desgosto'),\n",
    "(u'estou desgostoso com você','desgosto'),\n",
    "(u'você cortou o meu assunto','desgosto'),\n",
    "(u'para que tanta chateação?','desgosto'),\n",
    "(u'esse perfume e enjoativo','desgosto'),\n",
    "(u'ser perigoso não nada bom','desgosto'),\n",
    "(u'você e perigoso demais para minha filhas','desgosto'),\n",
    "(u'que fetido este esgoto','desgosto'),\n",
    "(u'que fedido você esta','desgosto'),\n",
    "(u'que cachorro malcheiroso','desgosto'),\n",
    "(u'hora que ultraje','desgosto'),\n",
    "(u'e ultrajante da sua parte','desgosto'),\n",
    "(u'situação desagradável essa','desgosto'),\n",
    "(u'você só me da desgosto','desgosto'),\n",
    "(u'tenho aversão a pessoas assim','desgosto'),\n",
    "(u'antipatia e um mal da sociedade','desgosto'),\n",
    "(u'que criatura abominável','desgosto'),\n",
    "(u'e depressiva a maneira como você vê o mundo','desgosto'),\n",
    "(u'me desagrada sua presença na festa','desgosto'),\n",
    "(u'sinto asco dessa coisa','desgosto'),\n",
    "(u'que hediondo!','desgosto'),\n",
    "(u'vou golfar o cafe fora','desgosto'),\n",
    "(u'hora que garota detestável!','desgosto'),\n",
    "(u'estou nauseada','desgosto'),\n",
    "(u'isso que você disse foi muito grave','desgosto'),\n",
    "(u'não seja obsceno na frente das crianças','desgosto'),\n",
    "(u'não seja rude com as visitas','desgosto'),\n",
    "(u'esse assunto me da repulsa','desgosto'),\n",
    "(u'que criança terrivelmente travessa','desgosto'),\n",
    "(u'que criança mal educada','desgosto'),\n",
    "(u'estou indisposta te dar o divorcio','desgosto'),\n",
    "(u'tão patetico, não tem nada mais rude para dizer?','desgosto'),\n",
    "(u'por motivo torpe, com emprego de meio cruel e com impossibilidade de defesa para a vítima','desgosto'),\n",
    "(u'a inveja e tão vil e vergonhosa que ninguem se atreve a confessá-la','desgosto'),\n",
    "(u'o miserável receio de ser sentimental e o mais vil de todos os receios modernos','desgosto'),\n",
    "(u'travesso gato quando fica com saudades do dono mija no sapato','desgosto'),\n",
    "(u'isso e um ato detestável e covarde','desgosto'),\n",
    "(u'revelam apenas o que e destrutivo e detestável para o povo','desgosto'),\n",
    "(u'não sei como e a vida de um patife, mais a de um homem honesto e abominável','desgosto'),\n",
    "(u'há coisas que temos que suportar para não acharmos a vida insuportável','desgosto'),\n",
    "(u'as injurias do tempo e as injustiças do homem','desgosto'),\n",
    "(u'odioso e desumano','desgosto'),\n",
    "(u'você não publicará conteúdo odiento, pornográfico ou ameaçador','desgosto'),\n",
    "(u'rancoroso e reprimido','desgosto'),\n",
    "(u'não há animal mais degradante, estúpido, covarde, lamentável, egoísta, rancoroso e invejoso do que o homem','desgosto'),\n",
    "(u'o virulento debate ente políticos','desgosto'),\n",
    "\n",
    "(u'eu imploro, não me matem!','medo'),\n",
    "(u'tem certeza que não e perigoso?','medo'),\n",
    "(u'não tenho certeza se e seguro','medo'),\n",
    "(u'tenho que correr pra não me pegarem','medo'),\n",
    "(u'socorro! ele queria roubar os meus doces!','medo'),\n",
    "(u'esse cara está me perseguindo','medo'),\n",
    "(u'não entro lá, e um lugar muito perigoso','medo'),\n",
    "(u'este lugar continua assustador','medo'),\n",
    "(u'na selva tem muitos animais perigosos','medo'),\n",
    "(u'avancem com cautela','medo'),\n",
    "(u'este lugar está silencioso de mais, cuidado!','medo'),\n",
    "(u'por favor, deixe-me viver!','medo'),\n",
    "(u'vou ficar sem mesada se tirar nota baixa','medo'),\n",
    "(u'parece que tem olhos nos vigiando','medo'),\n",
    "(u'eu temo que a sentença do juiz possa ser negativa','medo'),\n",
    "(u'mas essa missão e arriscada','medo'),\n",
    "(u'salvem-se quem puder!','medo'),\n",
    "(u'meu plano pode ser descoberto','medo'),\n",
    "(u'não tive culpa, juro não fui eu','medo'),\n",
    "(u'tenho que tomar cuidado com o lobisomem','medo'),\n",
    "(u'se eu não achar, ele vai descobrir a verdade','medo'),\n",
    "(u'meu deus, ele desapareceu!','medo'),\n",
    "(u'tomara que eles não me vejam daqui!','medo'),\n",
    "(u'mantenha isso em segredo, se descobrirem estaremos ferrados','medo'),\n",
    "(u'por favor, me soltem, eu sou inocente','medo'),\n",
    "(u'estou ouvindo passos atrás de mim','medo'),\n",
    "(u'eu vou pedir socorro!','medo'),\n",
    "(u'cuidado com as curvas na estrada','medo'),\n",
    "(u'não sei não, parece perigoso','medo'),\n",
    "(u'estou tremendo de medo!','medo'),\n",
    "(u'socorro, eu vou cair!','medo'),\n",
    "(u'eu não vou ate a floresta negra, e muito perigoso','medo'),\n",
    "(u'ouço passos na minha direção','medo'),\n",
    "(u'acho que está arriscado de mais','medo'),\n",
    "(u'vamos voltar, e muito perigoso','medo'),\n",
    "(u'fuja, se não acabaremos mortos','medo'),\n",
    "(u'receio por não me livrar desta situação','medo'),\n",
    "(u'socorro! ele está armado!','medo'),\n",
    "(u'ei cuidado, você vai bater no poste!','medo'),\n",
    "(u'socorro, nós estamos afundando','medo'),\n",
    "(u'e serio, cuidado com essa arma!','medo'),\n",
    "(u'os tubarões estão atacando!','medo'),\n",
    "(u'sinto arrepios quando fico sozinho no escuro','medo'),\n",
    "(u'calma, eu não estou com o dinheiro','medo'),\n",
    "(u'eu acho que estou sendo enganado','medo'),\n",
    "(u'ligeiro, temos que fugir depressa','medo'),\n",
    "(u'tem um crocodilo selvagem vindo para cá','medo'),\n",
    "(u'se ficarmos quietos eles não vão nos achar','medo'),\n",
    "(u'fuja! o tigre parece faminto','medo'),\n",
    "(u'estou sem saída, preciso de um milagre','medo'),\n",
    "(u'tire isso de mim! socorro!','medo'),\n",
    "(u'não sei nadar, vou me afogar!','medo'),\n",
    "(u'não tenho certeza se e seguro','medo'),\n",
    "(u'vou apanhar se meus pais verem meu boletim','medo'),\n",
    "(u'não consigo sair daqui!','medo'),\n",
    "(u'se sair tão tarde, poderei ser assaltada','medo'),\n",
    "(u'não me deixe por favor!','medo'),\n",
    "(u'espere, não pode me largar aqui sozinho','medo'),\n",
    "(u'temo pela sua segurança','medo'),\n",
    "(u'eu te entrego o dinheiro, por favor não me mate!','medo'),\n",
    "(u'ele vai levar todo o meu dinheiro','medo'),\n",
    "(u'não dirija tão rápido assim','medo'),\n",
    "(u'me descobriram, irão me prender!','medo'),\n",
    "(u'só espero que não me façam nenhum mal','medo'),\n",
    "(u'vou me afogar, me ajudem a sair da água','medo'),\n",
    "(u'não estaremos a salvo aqui','medo'),\n",
    "(u'não quero nem pensar no que pode acontecer','medo'),\n",
    "(u'nessa cidade e uma desgraça atrás da outra','medo'),\n",
    "(u'alguem esta me ligando, estou assustado','medo'),\n",
    "(u'isso não e remedio, não me matem','medo'),\n",
    "(u'eu não confio nele, tenho que ter cautela','medo'),\n",
    "(u'muita cautela','medo'),\n",
    "(u'vou ser descoberto, meu deus','medo'),\n",
    "(u'receio que terei de ir','medo'),\n",
    "(u'a noite e muito perigosa','medo'),\n",
    "(u'estou estremecendo com essa casa','medo'),\n",
    "(u'olha aquela criatura se movendo monstruosamente','medo'),\n",
    "(u'não agüento este suspense','medo'),\n",
    "(u'afugente os cães','medo'),\n",
    "(u'estou chocado e amedrontado com este assassinato brutal','medo'),\n",
    "(u'e preciso afugenta com ímpeto este medo do inferno','medo'),\n",
    "(u'seu políticos usam suas forças para afugentar e amedrontar o povo','medo'),\n",
    "(u'o objetivo disso e apenas me amedrontar mais','medo'),\n",
    "(u'isso me apavora','medo'),\n",
    "\n",
    "(u'ele a feriu profundamente','raiva'),\n",
    "(u'vou despejar minha cólera em você','raiva'),\n",
    "(u'me sinto atormentado','raiva'),\n",
    "(u'não me contrarie','raiva'),\n",
    "(u'vou destruir tudo  que foi construído','raiva'),\n",
    "(u'não consigo terminar este trabalho, e muito frustrante','raiva'),\n",
    "(u'me frustra a sua presença aqui','raiva'),\n",
    "(u'esta comida me parece muito ruim','raiva'),\n",
    "(u'você me destrói','raiva'),\n",
    "(u'estamos separados','raiva'),\n",
    "(u'estou odiando este vestido','raiva'),\n",
    "(u'não pude comprar meu celular hoje','raiva'),\n",
    "(u'ela e uma garota ruim','raiva'),\n",
    "(u'estivemos em um show horroroso','raiva'),\n",
    "(u'o ingresso estava muito caro','raiva'),\n",
    "(u'se eu estragar tudo vai por água a baixo','raiva'),\n",
    "(u'não possuo dinheiro algum','raiva'),\n",
    "(u'sou muito pobre','raiva'),\n",
    "(u'vai prejudicar a todos esta nova medida','raiva'),\n",
    "(u'ficou ridículo','raiva'),\n",
    "(u'este sapato esta muito apertado','raiva'),\n",
    "(u'a musica e uma ofensa aos meus ouvidos','raiva'),\n",
    "(u'não consigo terminar uma tarefa muito difícil','raiva'),\n",
    "(u'reprovei em minha graduação','raiva'),\n",
    "(u'estou muito chateado com tudo','raiva'),\n",
    "(u'eu odeio em você','raiva'),\n",
    "(u'e um desprazer conhecê-lo','raiva'),\n",
    "(u'estou desperdiçando minhas ferias','raiva'),\n",
    "(u'e muito ruim este jogo','raiva'),\n",
    "(u'vamos ter muito rancor pela frente','raiva'),\n",
    "(u'não achei que seria tão terrível','raiva'),\n",
    "(u'vou vetar o orçamento ao cliente','raiva'),\n",
    "(u'meus pais não consentiram nosso casamento','raiva'),\n",
    "(u'eu odiei este perfume','raiva'),\n",
    "(u'seu descaso e frustrante','raiva'),\n",
    "(u'me sinto completamente amarga','raiva'),\n",
    "(u'desprezo muito o seu trabalho','raiva'),\n",
    "(u'estamos descontentes por nossa família','raiva'),\n",
    "(u'vou infernizar a sua empresa','raiva'),\n",
    "(u'estou furioso com estes valores','raiva'),\n",
    "(u'obrigaram o rapaz a sair','raiva'),\n",
    "(u'como ele pode deixar de lado?','raiva'),\n",
    "(u'são apenas injurias sobre mim','raiva'),\n",
    "(u'estou enfurecido com a situação dessa empresa','raiva'),\n",
    "(u'estou com o diabo no corpo','raiva'),\n",
    "(u'isso foi diabólico','raiva'),\n",
    "(u'tenho aversão à gente chata','raiva'),\n",
    "(u'não vou perdoar sua traição','raiva'),\n",
    "(u'esse dinheiro sujo e corrupto','raiva'),\n",
    "(u'eles me crucificam o tempo todo','raiva'),\n",
    "(u'eu vou enlouquecer com todo este barulho','raiva'),\n",
    "(u'não agüento todo esse assedio','raiva'),\n",
    "(u'cólera do dragão','raiva'),\n",
    "(u'isso e ridículo!','raiva'),\n",
    "(u'da próxima vez, vou inventar tudo sozinho','raiva'),\n",
    "(u'seus tolos! deixaram ele escapar!','raiva'),\n",
    "(u'jamais te perdoarei','raiva'),\n",
    "(u'o que e isso? outra multa','raiva'),\n",
    "(u'você passou dos limites!','raiva'),\n",
    "(u'sente-se e cale a boca','raiva'),\n",
    "(u'ingratosvermesvocês me pagam!','raiva'),\n",
    "(u'saiam da dai, se não arranco vocês dai!','raiva'),\n",
    "(u'você já me causou problemas suficientes','raiva'),\n",
    "(u'isso foi a gota dagua','raiva'),\n",
    "(u'o que você tem com isso?','raiva'),\n",
    "(u'não vejo a hora de me livrar de você','raiva'),\n",
    "(u'já entendi a jogada seus safados!','raiva'),\n",
    "(u'você não merece piedade','raiva'),\n",
    "(u'saia de perto de mim','raiva'),\n",
    "(u'suma daqui, ou arranco seu couro!','raiva'),\n",
    "(u'estou revoltado com essa situação','raiva'),\n",
    "(u'seu idiota!','raiva'),\n",
    "(u'não, eu não vou te emprestar dinheiro!','raiva'),\n",
    "(u'você não passa de um cafajeste! vai embora','raiva'),\n",
    "(u'pare de frescura e vá trabalhar','raiva'),\n",
    "(u'eles merecem uma lição','raiva'),\n",
    "(u'ainda estou muito bravo com você','raiva'),\n",
    "(u'eu preciso surrar aquela chantagista','raiva'),\n",
    "(u'olha o que você fez! derramou!','raiva'),\n",
    "(u'você está pedindo pra apanhar!','raiva'),\n",
    "(u'me deixa em paz!','raiva'),\n",
    "(u'morra maldito, morra!','raiva'),\n",
    "(u'você e mais irritante de perto','raiva'),\n",
    "(u'e bom fechar o bico','raiva'),\n",
    "\n",
    "(u'magicamente você me surpreendeu','surpresa'),\n",
    "(u'e imenso esse globo','surpresa'),\n",
    "(u'isso e tremendamente interessante','surpresa'),\n",
    "(u'meu bilhete for sorteado, inacreditável!','surpresa'),\n",
    "(u'um assalto a mão armada!','surpresa'),\n",
    "(u'incrível, cabe em qualquer lugar!','surpresa'),\n",
    "(u'você por aqui?','surpresa'),\n",
    "(u'não dá pra acreditar no que ela me contou','surpresa'),\n",
    "(u'os convidados já estão chegando!','surpresa'),\n",
    "(u'puxa vida! nunca nos livramos de alguem tão depressa','surpresa'),\n",
    "(u'micha carteira sumiu, eu estava com ela na mão','surpresa'),\n",
    "(u'oh! um disco voador','surpresa'),\n",
    "(u'amigos, que bela surpresa!','surpresa'),\n",
    "(u'nunca pensei que veria isso e perto','surpresa'),\n",
    "(u'nem acredito que comi tanto','surpresa'),\n",
    "(u'não acredito que veio me ver','surpresa'),\n",
    "(u'não acredito que e  tão descarado','surpresa'),\n",
    "(u'me surpreende sua falta de tato','surpresa'),\n",
    "(u'o predio onde eles moravam desabou!','surpresa'),\n",
    "(u'inacreditável um bolo tão grande','surpresa'),\n",
    "(u'e serio mesmo? não dá pra acreditar','surpresa'),\n",
    "(u'como assim não vai ao nosso encontro?','surpresa'),\n",
    "(u'como assim não tem ninguem em casa?','surpresa'),\n",
    "(u'ue, mas para onde ele foi?!','surpresa'),\n",
    "(u'por essa eu não esperava','surpresa'),\n",
    "(u'nossa, olha só que mergulho','surpresa'),\n",
    "(u'minha esposa está grávida!','surpresa'),\n",
    "(u'meu dinheiro sumiu!','surpresa'),\n",
    "(u'e verdade que os dois terminaram?!?','surpresa'),\n",
    "(u'caramba, nem vi você chegar','surpresa'),\n",
    "(u'nossa, como pode alguem cozinhar tão mal?','surpresa'),\n",
    "(u'nossa que incrível','surpresa'),\n",
    "(u'a fórmula sumiu!','surpresa'),\n",
    "(u'eu nem acredito que já estou terminando o curso','surpresa'),\n",
    "(u'não acredito que esta aqui comigo novamente','surpresa'),\n",
    "(u'está escondendo algo de nós!','surpresa'),\n",
    "(u'como assim, ainda não terminou a tarefa','surpresa'),\n",
    "(u'pensei que já estivesse pronta!','surpresa'),\n",
    "(u'opa! quem apagou a luz?','surpresa'),\n",
    "(u'caramba! aonde vai tão rápido?','surpresa'),\n",
    "(u'estamos seguindo o caminho errado!','surpresa'),\n",
    "(u'quatro reais o litro da gasolina!','surpresa'),\n",
    "(u'me assustei ao vê-lo desse jeito!','surpresa'),\n",
    "(u'minha mãe está grávida, acredita nisso?','surpresa'),\n",
    "(u'parece mentira você ter crescido tanto','surpresa'),\n",
    "(u'me surpreende sua imaginação','surpresa'),\n",
    "(u'suas roupas são realmente lindas','surpresa'),\n",
    "(u'com consegue ser tão bela?','surpresa'),\n",
    "(u'essa e realmente uma casa deslumbrante','surpresa'),\n",
    "(u'superou minhas expectativas','surpresa'),\n",
    "(u'e admirável a maneira como se comporta','surpresa'),\n",
    "(u'isso e realmente chocante','surpresa'),\n",
    "(u'algumas noticias me surpreenderam no noticiário','surpresa'),\n",
    "(u'surpreendente sua festa','surpresa'),\n",
    "(u'estou tremendo de alegria','surpresa'),\n",
    "(u'chocou grande parte do mundo','surpresa'),\n",
    "(u'eu ficaria muito espantado com a sua vinda','surpresa'),\n",
    "(u'ele e admirável','surpresa'),\n",
    "(u'sua beleza me surpreendeu','surpresa'),\n",
    "(u'seus olhos são surpreendentemente verdes','surpresa'),\n",
    "(u'os políticos se surpreendem quando alguem acredita neles','surpresa'),\n",
    "(u'estou perplexa com essas denuncias','surpresa'),\n",
    "(u'fiquei perplexo com suas palavras','surpresa'),\n",
    "(u'estou abismado com sua prosa','surpresa'),\n",
    "(u'eu ficaria realmente abismado se me dissessem isso','surpresa'),\n",
    "(u'o grupo foi surpreendido enquanto lavava o carro','surpresa'),\n",
    "(u'estou boquiaberto com as imagens','surpresa'),\n",
    "(u'estou boquiaberto com essas suas palavras','surpresa'),\n",
    "(u'esse quadro e maravilhoso','surpresa'),\n",
    "(u'este carro me deixou maravilhado','surpresa'),\n",
    "(u'estou maravilhada','surpresa'),\n",
    "(u'essa expectativa esta me matando','surpresa'),\n",
    "(u'vou caminhar sempre na expectativa de encontrá-lo','surpresa'),\n",
    "(u'você emudece minhas palavras','surpresa'),\n",
    "(u'minhas palavras vão emudecer se não parar de me surpreender','surpresa'),\n",
    "(u'a mulher e um efeito deslumbrante da natureza','surpresa'),\n",
    "(u'estou deslumbrada com essas jóias','surpresa'),\n",
    "(u'isso e romântico e deslumbrante','surpresa'),\n",
    "(u'isso pode ser surpreendentemente deslumbrante','surpresa'),\n",
    "(u'trabalho deslumbrante','surpresa'),\n",
    "(u'essas pessoas são esplêndida','surpresa'),\n",
    "(u'e esplendido como o ceu se encontra no momento','surpresa'),\n",
    "(u'e um carro fantástico','surpresa'),\n",
    "(u'um edifício realmente fantástico','surpresa'),\n",
    "\n",
    "(u'por favor não me abandone','tristeza'),\n",
    "(u'não quero ficar sozinha','tristeza'),\n",
    "(u'não me deixe sozinha','tristeza'),\n",
    "(u'estou abatida','tristeza'),\n",
    "(u'ele esta todo abatido','tristeza'),\n",
    "(u'tão triste suas palavras','tristeza'),\n",
    "(u'seu amor não e mais meu','tristeza'),\n",
    "(u'estou aborrecida','tristeza'),\n",
    "(u'isso vai me aborrecer','tristeza'),\n",
    "(u'estou com muita aflição','tristeza'),\n",
    "(u'me aflige o modo como fala','tristeza'),\n",
    "(u'estou em agonia com meu intimo','tristeza'),\n",
    "(u'não quero fazer nada','tristeza'),\n",
    "(u'me sinto ansiosa e tensa','tristeza'),\n",
    "(u'não consigo parar de chorar','tristeza'),\n",
    "(u'não consigo segurar as lagrimas','tristeza'),\n",
    "(u'e muita dor perder um ente querido','tristeza'),\n",
    "(u'estou realmente arrependida','tristeza'),\n",
    "(u'acho que o carma volta, pois agora sou eu quem sofro','tristeza'),\n",
    "(u'você não cumpriu suas promessas','tristeza'),\n",
    "(u'me sinto amargurada','tristeza'),\n",
    "(u'coitado esta tão triste','tristeza'),\n",
    "(u'já e tarde de mais','tristeza'),\n",
    "(u'nosso amor acabou','tristeza'),\n",
    "(u'essa noite machuca só para mim','tristeza'),\n",
    "(u'eu não estou mais no seu coração','tristeza'),\n",
    "(u'você mudou comigo','tristeza'),\n",
    "(u'quando eu penso em você realmente dói','tristeza'),\n",
    "(u'como se fosse nada você vê minhas lagrimas','tristeza'),\n",
    "(u'você disse cruelmente que não se arrependeu','tristeza'),\n",
    "(u'eu nunca mais vou te ver','tristeza'),\n",
    "(u'ela esta com depressão','tristeza'),\n",
    "(u'a depressão aflige as pessoas','tristeza'),\n",
    "(u'estar depressivo e muito ruim','tristeza'),\n",
    "(u'estou derrotada e deprimida depois deste dia','tristeza'),\n",
    "(u'e comovente te ver dessa maneira','tristeza'),\n",
    "(u'e comovente ver o que os filhos do brasil passam','tristeza'),\n",
    "(u'como me sinto culpada','tristeza'),\n",
    "(u'estou abatida','tristeza'),\n",
    "(u'a ansiedade tomou conta de mim','tristeza'),\n",
    "(u'as pessoas não gostam do meu jeito','tristeza'),\n",
    "(u'adeus passamos bons momentos juntos','tristeza'),\n",
    "(u'sinto sua falta','tristeza'),\n",
    "(u'ele não gostou da minha comida','tristeza'),\n",
    "(u'estou sem dinheiro para a comida','tristeza'),\n",
    "(u'queria que fosse o ultimo dia da minha vida','tristeza'),\n",
    "(u'você está com vergonha de mim','tristeza'),\n",
    "(u'ela não aceitou a minha proposta','tristeza'),\n",
    "(u'era o meu ultimo centavo','tristeza'),\n",
    "(u'reprovei de ano na faculdade','tristeza'),\n",
    "(u'afinal você só sabe me desfazer','tristeza'),\n",
    "(u'eu falhei em tudo nessa vida','tristeza'),\n",
    "(u'eu fui muito humilhado','tristeza'),\n",
    "(u'e uma história muito triste','tristeza'),\n",
    "(u'ninguem acredita em mim','tristeza'),\n",
    "(u'eu não sirvo para nada mesmo','tristeza'),\n",
    "(u'droga, não faço nada direito','tristeza'),\n",
    "(u'sofrimento em dobro na minha vida','tristeza'),\n",
    "(u'fui demitida essa semana','tristeza'),\n",
    "(u'as crianças sofrem ainda mais que os adultos','tristeza'),\n",
    "(u'pra mim um dia e ruim, o outro e pior','tristeza'),\n",
    "(u'de repente perdi o apetite','tristeza'),\n",
    "(u'oh que dia infeliz','tristeza'),\n",
    "(u'estamos afundados em contas','tristeza'),\n",
    "(u'nem um milagre pode nos salvar','tristeza'),\n",
    "(u'só me resta a esperança','tristeza'),\n",
    "(u'pior que isso não pode ficar','tristeza'),\n",
    "(u'meu salário e baixo','tristeza'),\n",
    "(u'não passei no vestibular','tristeza'),\n",
    "(u'ninguem se importa comigo','tristeza'),\n",
    "(u'ninguem lembrou do meu aniversário','tristeza'),\n",
    "(u'tenho tanto azar','tristeza'),\n",
    "(u'o gosto da vingança e amargo','tristeza'),\n",
    "(u'sou uma mulher amargurada depois de que você me deixou','tristeza'),\n",
    "(u'estou desanimada com a vida','tristeza'),\n",
    "(u'e um desanimo só coitadinha','tristeza'),\n",
    "(u'a derrota e depressiva','tristeza'),\n",
    "(u'discriminar e desumano','tristeza'),\n",
    "(u'que desanimo','tristeza'),\n",
    "(u'e uma desonra para o pais','tristeza'),\n",
    "(u'a preocupação deveria nos levar a ação não a depressão','tristeza'),\n",
    "(u'passamos ao desalento e a loucura','tristeza'),\n",
    "(u'aquele que nunca viu a tristeza nunca reconhecerá a alegria','tristeza'),\n",
    "(u'cuidado com a tristeza ela e um vicio','tristeza')]"
   ]
  },
  {
   "cell_type": "code",
   "execution_count": 80,
   "metadata": {
    "collapsed": true
   },
   "outputs": [],
   "source": [
    "baseteste =[(u'não precisei pagar o ingresso','alegria'),\n",
    "(u'se eu ajeitar tudo fica bem','alegria'),\n",
    "(u'minha fortuna ultrapassa a sua','alegria'),\n",
    "(u'sou muito afortunado','alegria'),\n",
    "(u'e benefico para todos esta nova medida','alegria'),\n",
    "(u'ficou lindo','alegria'),\n",
    "(u'achei esse sapato muito simpático','alegria'),\n",
    "(u'estou ansiosa pela sua chegada','alegria'),\n",
    "(u'congratulações pelo seu aniversário','alegria'),\n",
    "(u'delicadamente ele a colocou para dormir','alegria'),\n",
    "(u'a musica e linda','alegria'),\n",
    "(u'sem musica eu não vivo','alegria'),\n",
    "(u'conclui uma tarefa muito difícil','alegria'),\n",
    "(u'conclui minha graduação','alegria'),\n",
    "(u'estou muito contente com tudo','alegria'),\n",
    "(u'eu confio em você','alegria'),\n",
    "(u'e um prazer conhecê-lo','alegria'),\n",
    "(u'o coleguismo de vocês e animador','alegria'),\n",
    "(u'estou aproveitando as ferias','alegria'),\n",
    "(u'vamos aproveitar as ferias','alegria'),\n",
    "(u'e muito divertido este jogo','alegria'),\n",
    "(u'vamos ter muita diversão','alegria'),\n",
    "(u'não achei que me divertiria tanto assim','alegria'),\n",
    "(u'vou consentir o orçamento ao cliente','alegria'),\n",
    "(u'com o consentimento dos meus pais podemos nos casar','alegria'),\n",
    "(u'eu adorei este perfume','alegria'),\n",
    "(u'sua bondade e cativante','alegria'),\n",
    "(u'estou despreocupada','alegria'),\n",
    "(u'não me preocupo com o que aconteceu','alegria'),\n",
    "(u'me sinto completamente segura','alegria'),\n",
    "(u'estimo muito o seu trabalho','alegria'),\n",
    "(u'somos estimados por nossa família','alegria'),\n",
    "(u'concretizamos nossa ideia','alegria'),\n",
    "(u'nosso ideal foi alcançado','alegria'),\n",
    "(u'estamos muito felizes juntos','alegria'),\n",
    "(u'estou tão animada com os preparativos para o casamento','alegria'),\n",
    "(u'você será muito amado meu filho','alegria'),\n",
    "(u'os apaixonados são maravilhosos','alegria'),\n",
    "(u'agradeço imensamente o seu apoio nestes dias','alegria'),\n",
    "(u'esta comida me parece muito atraente','alegria'),\n",
    "(u'você me completa','alegria'),\n",
    "(u'poderemos completar o projeto hoje!','alegria'),\n",
    "(u'estamos namorando','alegria'),\n",
    "(u'estou namorando este vestido a um tempo','alegria'),\n",
    "(u'pude comprar meu celular hoje','alegria'),\n",
    "(u'e um deleite poder compartilhar minhas vitórias','alegria'),\n",
    "(u'ela e um boa garota','alegria'),\n",
    "(u'estivemos em um ótimo show','alegria'),\n",
    "\n",
    "(u'o mundo e feio como o pecado','desgosto'),\n",
    "(u'a coisa mais difícil de esconder e aquilo que não existe','desgosto'),\n",
    "(u'você errou feio aquele gol','desgosto'),\n",
    "(u'nunca vou me casar sou muito feia','desgosto'),\n",
    "(u'os golpes da adversidade são terrivelmente amargos','desgosto'),\n",
    "(u'os homem ficam terrivelmente chatos','desgosto'),\n",
    "(u'abominavelmente convencido','desgosto'),\n",
    "(u'terrivelmente irritado','desgosto'),\n",
    "(u'as instituições publicas estão terrivelmente decadentes','desgosto'),\n",
    "(u'a população viveu em isolamento por muito tempo','desgosto'),\n",
    "(u'estou terrivelmente preocupada','desgosto'),\n",
    "(u'o nacionalismo e uma doença infantil','desgosto'),\n",
    "(u'se me es antipático a minha negação esta pronta','desgosto'),\n",
    "(u'muitos documentários sobre esse casal antipático','desgosto'),\n",
    "(u'sua beleza não desfaça sua antipatia','desgosto'),\n",
    "(u'esta e uma experiência desagradável','desgosto'),\n",
    "(u'desagradável estrago nos banheiros','desgosto'),\n",
    "(u'o mais irritante no amor e que se trata de um crime que precisa de um cúmplice','desgosto'),\n",
    "(u'a situação nos causa grande incomodo','desgosto'),\n",
    "(u'estou preocupado com o incomodo na garganta','desgosto'),\n",
    "(u'simplesmente não quero amolação da policia','desgosto'),\n",
    "(u'você e uma criaturinha muito impertinente','desgosto'),\n",
    "(u'o peso e a dor da vida','desgosto'),\n",
    "(u'me arrependo amargamente de minhas ações','desgosto'),\n",
    "(u'o destino e cruel e os homens não são dignos de compaixão','desgosto'),\n",
    "(u'o ódio conduz ao isolamento cruel e ao desespero','desgosto'),\n",
    "(u'encerrou com o massacre mais repudiável e asqueroso que se conhece','desgosto'),\n",
    "(u'de mal gosto e asqueroso','desgosto'),\n",
    "(u'tudo e inserto neste mundo hediondo','desgosto'),\n",
    "(u'o crime de corrupção e um crime hediondo','desgosto'),\n",
    "(u'o rio esta fetido e de cor escura','desgosto'),\n",
    "(u'muito lixo no rio o deixa malcheiroso','desgosto'),\n",
    "(u'existe uma laranja podre no grupo e já desconfiamos quem e','desgosto'),\n",
    "(u'foi de repente estou machucado e me sentindo enjoado','desgosto'),\n",
    "(u'eu fiquei enojado','desgosto'),\n",
    "(u'daqui alguns meses vou embora deste pais que já estou nauseado','desgosto'),\n",
    "\n",
    "(u'que abominável esse montro!','medo'),\n",
    "(u'vamos alarmar a todos sobre a situação','medo'),\n",
    "(u'estou amedrontada','medo'),\n",
    "(u'estou com muito medo da noite','medo'),\n",
    "(u'ele esta me ameaçando a dias','medo'),\n",
    "(u'quanta angustia','medo'),\n",
    "(u'estou angustiada','medo'),\n",
    "(u'angustiadamente vou sair e casa','medo'),\n",
    "(u'isso me deixa apavorada','medo'),\n",
    "(u'você esta me apavorando','medo'),\n",
    "(u'estou desconfiada de você','medo'),\n",
    "(u'não confio em você','medo'),\n",
    "(u'ate o cachorro está apavorado','medo'),\n",
    "(u'estou assustado com as ações do meu colega','medo'),\n",
    "(u'agora se sente humilhado, apavorado','medo'),\n",
    "(u'assustou a população e provocou mortes','medo'),\n",
    "(u'estou com dificuldades para respirar e muito assustado','medo'),\n",
    "(u'os policiais se assustaram quando o carro capotou','medo'),\n",
    "(u'o trabalhador e assombrado pelo temor do desemprego','medo'),\n",
    "(u'este lugar e mal assombrado','medo'),\n",
    "(u'estou assombrado pela crise financeira','medo'),\n",
    "(u'mesmo aterrorizado lembro de você','medo'),\n",
    "(u'aterrorizado e suando frio','medo'),\n",
    "(u'um grupo de elefantes selvagens tem aterrorizado vilas','medo'),\n",
    "(u'me sinto intimidada pela sua presença','medo'),\n",
    "(u'tenho medo de ser advertida novamente','medo'),\n",
    "(u'estou correndo o risco de ser advertido','medo'),\n",
    "(u'estou correndo riscos de saúde','medo'),\n",
    "(u'os riscos são reais','medo'),\n",
    "(u'podemos perder muito dinheiro com essa investida','medo'),\n",
    "(u'socorro, fui intimado a depor','medo'),\n",
    "(u'fui notificado e estou com medo de perde a guarda da minha filha','medo'),\n",
    "(u'estou angustiada com meus filhos na rua','medo'),\n",
    "(u'e abominável o que fazem com os animais','medo'),\n",
    "(u'foi terrível o tigre quase o matou','medo'),\n",
    "(u'me advertiram sobre isso','medo'),\n",
    "\n",
    "(u'ate que enfim, não agüentava mais te esperar','raiva'),\n",
    "(u'eu quero meu dinheiro de volta agora!','raiva'),\n",
    "(u'eu odeio a escola!','raiva'),\n",
    "(u'vou fazer picadinho de você','raiva'),\n",
    "(u'detesto trabalhar no verão','raiva'),\n",
    "(u'quero minha comida, e quero agora!','raiva'),\n",
    "(u'melhor você recolher minhas compras agora!','raiva'),\n",
    "(u'quero descer agora sua maluca','raiva'),\n",
    "(u'vou reclamar com o gerente!','raiva'),\n",
    "(u'vai engolir o que disse!','raiva'),\n",
    "(u'ele me ridiculariza diante de todos','raiva'),\n",
    "(u'não quero mais saber de você','raiva'),\n",
    "(u'vejo você na cadeia safado!','raiva'),\n",
    "(u'agora vou ter que pagar mais isso ainda!','raiva'),\n",
    "(u'saia logo do banheiro!','raiva'),\n",
    "(u'suba já para o seu quarto!','raiva'),\n",
    "(u'eu falei para calar a boca seu idiota!','raiva'),\n",
    "(u'eu disse para você cair fora!','raiva'),\n",
    "(u'não agüento mais que fiquem me culpando sem motivo!','raiva'),\n",
    "(u'não suporto olhar na sua cara!','raiva'),\n",
    "(u'eu não sou um elefante','raiva'),\n",
    "(u'juro que se olhar pra mim eu o mato!','raiva'),\n",
    "(u'chega, não quero saber mais deste assunto','raiva'),\n",
    "(u'como pode ser tão burro?','raiva'),\n",
    "(u'não me aborreça seu moleque','raiva'),\n",
    "(u'não quero me aborrecer com estas bobagens','raiva'),\n",
    "(u'ele me agrediu!','raiva'),\n",
    "(u'eu amaldiçôo você e a sua família','raiva'),\n",
    "(u'não me amole','raiva'),\n",
    "(u'não venha me amolar','raiva'),\n",
    "(u'isso tudo e uma tormenta','raiva'),\n",
    "(u'eu vou matar você','raiva'),\n",
    "(u'para que simplificar se você pode sempre complicar','raiva'),\n",
    "(u'isso esta me enlouquecendo','raiva'),\n",
    "(u'estou furiosa com você','raiva'),\n",
    "(u'isso mesmo fique furioso','raiva'),\n",
    "\n",
    "(u'esses livros são magníficos','surpresa'),\n",
    "(u'esse vinho e magnífico','surpresa'),\n",
    "(u'seria magnífico ver o esperaculo','surpresa'),\n",
    "(u'o casamento foi estupendo','surpresa'),\n",
    "(u'e um jogador bárbaro estupendo','surpresa'),\n",
    "(u'esse dia esta excelente','surpresa'),\n",
    "(u'o cantor estava excelente','surpresa'),\n",
    "(u'o universo e assombroso','surpresa'),\n",
    "(u'o amor e sublime','surpresa'),\n",
    "(u'sua sublime atuação','surpresa'),\n",
    "(u'e formidável meu caro walter','surpresa'),\n",
    "(u'como e formidável a presença de todos','surpresa'),\n",
    "(u'e formidável ter a quem dizer adeus','surpresa'),\n",
    "(u'e um conselheiro formidável o seu','surpresa'),\n",
    "(u'o artigo foi formidável','surpresa'),\n",
    "(u'pica pau e um destaque no imaginário brasileiro','surpresa'),\n",
    "(u'ah! o absoluto do imaginário','surpresa'),\n",
    "(u'isso foi surreal','surpresa'),\n",
    "(u'uma historia completamente surreal','surpresa'),\n",
    "(u'essas pinturas beiram o surreal','surpresa'),\n",
    "(u'você nem acreditam de tão surreal','surpresa'),\n",
    "(u'incrível!','surpresa'),\n",
    "(u'fiquei pasma com tudo isso','surpresa'),\n",
    "(u'você me deixa pasmo','surpresa'),\n",
    "(u'estou admirado com a sua astucia','surpresa'),\n",
    "(u'que bela surpresa você me fez','surpresa'),\n",
    "(u'não acredito que fez isso!','surpresa'),\n",
    "(u'isso foi apavorante','surpresa'),\n",
    "(u'isso tão de repente','surpresa'),\n",
    "(u'estou chocada com isso','surpresa'),\n",
    "(u'estou surpresa e desconsertada','surpresa'),\n",
    "(u'esta realmente deslumbrante querida','surpresa'),\n",
    "(u'fiquei completamente sem plavras','surpresa'),\n",
    "(u'e espantoso o modo como ele nos olha','surpresa'),\n",
    "(u'incrivel você estar aqui','surpresa'),\n",
    "(u'que fantástica festa minha querida','surpresa'),\n",
    "\n",
    "(u'isso tudo e um erro','tristeza'),\n",
    "(u'eu sou errada eu sou errante','tristeza'),\n",
    "(u'tenho muito dó do cachorro','tristeza'),\n",
    "(u'e dolorida a perda de um filho','tristeza'),\n",
    "(u'essa tragedia vai nos abalar para sempre','tristeza'),\n",
    "(u'perdi meus filhos','tristeza'),\n",
    "(u'perdi meu curso','tristeza'),\n",
    "(u'sou só uma chorona','tristeza'),\n",
    "(u'você e um chorão','tristeza'),\n",
    "(u'se arrependimento matasse','tristeza'),\n",
    "(u'me sinto deslocado em sala de aula','tristeza'),\n",
    "(u'foi uma passagem fúnebre','tristeza'),\n",
    "(u'nossa condolências e tristeza a sua perda','tristeza'),\n",
    "(u'desanimo, raiva, solidão ou vazies, depressão','tristeza'),\n",
    "(u'vivo te desanimando','tristeza'),\n",
    "(u'estou desanimado','tristeza'),\n",
    "(u'imperador sanguinário, depravado e temeroso','tristeza'),\n",
    "(u'meu ser esta em agonia','tristeza'),\n",
    "(u'este atrito entre nos tem que acabar','tristeza'),\n",
    "(u'a escuridão desola meu ser','tristeza'),\n",
    "(u'sua falsa preocupação','tristeza'),\n",
    "(u'sua falsidade me entristece','tristeza'),\n",
    "(u'quem esta descontente com os outros esta descontente consigo próprio','tristeza'),\n",
    "(u'a torcida esta descontente com a demissão do tecnico','tristeza'),\n",
    "(u'estou bastante aborrecido com o jornal','tristeza'),\n",
    "(u'me sinto solitário e entediado','tristeza'),\n",
    "(u'a vida e solitária para aqueles que não são falsos','tristeza'),\n",
    "(u'como com compulsão depois da depressão','tristeza'),\n",
    "(u'estou me desencorajando a viver','tristeza'),\n",
    "(u'ele desencoraja minhas vontades','tristeza'),\n",
    "(u'isso vai deprimindo por dentro','tristeza'),\n",
    "(u'acho que isso e defeituoso','tristeza'),\n",
    "(u'os remedios me derrubam na cama','tristeza'),\n",
    "(u'a depressão vai me derrubar','tristeza'),\n",
    "(u'suas desculpas são falsas','tristeza'),\n",
    "(u'não magoe as pessoas','tristeza')]"
   ]
  },
  {
   "cell_type": "code",
   "execution_count": 81,
   "metadata": {
    "collapsed": false
   },
   "outputs": [],
   "source": [
    "sem_stopwords = remove_stopwords(basetreinamento)"
   ]
  },
  {
   "cell_type": "code",
   "execution_count": 82,
   "metadata": {
    "collapsed": false
   },
   "outputs": [],
   "source": [
    "frases = aplicar_stemmer(sem_stopwords)"
   ]
  },
  {
   "cell_type": "code",
   "execution_count": 83,
   "metadata": {
    "collapsed": true
   },
   "outputs": [],
   "source": [
    "todas_palavras = lista_todas_as_palavras(frases)\n",
    "frequencia = busca_frequencia(todas_palavras)\n",
    "palavras_unicas = busca_palavras_unicas(frequencia)"
   ]
  },
  {
   "cell_type": "code",
   "execution_count": 84,
   "metadata": {
    "collapsed": true
   },
   "outputs": [],
   "source": [
    "basecompleta = nltk.classify.apply_features(extrator_palavras, frases)"
   ]
  },
  {
   "cell_type": "code",
   "execution_count": 85,
   "metadata": {
    "collapsed": false
   },
   "outputs": [],
   "source": [
    "classificador = nltk.NaiveBayesClassifier.train(basecompleta)"
   ]
  },
  {
   "cell_type": "code",
   "execution_count": 86,
   "metadata": {
    "collapsed": false
   },
   "outputs": [
    {
     "data": {
      "text/plain": [
       "['alegria', 'medo', 'surpresa', 'raiva', 'desgosto', 'tristeza']"
      ]
     },
     "execution_count": 86,
     "metadata": {},
     "output_type": "execute_result"
    }
   ],
   "source": [
    "classificador.labels()"
   ]
  },
  {
   "cell_type": "code",
   "execution_count": 87,
   "metadata": {
    "collapsed": false
   },
   "outputs": [
    {
     "name": "stdout",
     "output_type": "stream",
     "text": [
      "Most Informative Features\n",
      "                 acredit = True           surpre : triste =      6.3 : 1.0\n",
      "                    real = True           surpre : alegri =      5.8 : 1.0\n",
      "                     vou = True            raiva : surpre =      5.7 : 1.0\n",
      "                     tão = True           surpre : raiva  =      4.3 : 1.0\n",
      "                     dia = True           triste : alegri =      4.0 : 1.0\n",
      "                     vid = True           triste : alegri =      4.0 : 1.0\n",
      "                     ser = True             medo : alegri =      4.0 : 1.0\n",
      "                     pod = True             medo : alegri =      4.0 : 1.0\n",
      "                 depress = True           triste : desgos =      3.9 : 1.0\n",
      "                     mim = True           triste : medo   =      3.7 : 1.0\n"
     ]
    }
   ],
   "source": [
    "classificador.show_most_informative_features(10)"
   ]
  },
  {
   "cell_type": "code",
   "execution_count": 88,
   "metadata": {
    "collapsed": true
   },
   "outputs": [],
   "source": [
    "teste = \"eu sinto amor por você\""
   ]
  },
  {
   "cell_type": "code",
   "execution_count": 89,
   "metadata": {
    "collapsed": true
   },
   "outputs": [],
   "source": [
    "# vamos aplicar o stemmer manualmente\n",
    "def preditor(frase):\n",
    "    testestmmer = []\n",
    "    stmmer  = nltk.RSLPStemmer()\n",
    "    for palavra in frase.split():\n",
    "        testestmmer.append(stmmer.stem(palavra))\n",
    "    \n",
    "    novo = extrator_palavras(testestmmer)\n",
    "    print 'A frase é de ' + classificador.classify(novo) + '\\n'\n",
    "    \n",
    "    distribuicao = classificador.prob_classify(novo)\n",
    "    for classe in distribuicao.samples():\n",
    "        print \"%s: %f\" %(classe, distribuicao.prob(classe))"
   ]
  },
  {
   "cell_type": "code",
   "execution_count": 90,
   "metadata": {
    "collapsed": false
   },
   "outputs": [
    {
     "name": "stdout",
     "output_type": "stream",
     "text": [
      "A frase é de alegria\n",
      "\n",
      "surpresa: 0.001318\n",
      "raiva: 0.009807\n",
      "desgosto: 0.016351\n",
      "tristeza: 0.091085\n",
      "alegria: 0.878366\n",
      "medo: 0.003073\n"
     ]
    }
   ],
   "source": [
    "preditor(teste)"
   ]
  },
  {
   "cell_type": "markdown",
   "metadata": {},
   "source": [
    "# Medindo a acurácia do modelo"
   ]
  },
  {
   "cell_type": "code",
   "execution_count": 91,
   "metadata": {
    "collapsed": true
   },
   "outputs": [],
   "source": [
    "frasescomstemmingtreinamento = aplicar_stemmer(basetreinamento)\n",
    "frasescomstemmingteste = aplicar_stemmer(baseteste)"
   ]
  },
  {
   "cell_type": "code",
   "execution_count": 92,
   "metadata": {
    "collapsed": false
   },
   "outputs": [],
   "source": [
    "palavrastreinamento = lista_todas_as_palavras(frasescomstemmingtreinamento)\n",
    "palavrasteste = lista_todas_as_palavras(frasescomstemmingteste)"
   ]
  },
  {
   "cell_type": "code",
   "execution_count": 93,
   "metadata": {
    "collapsed": true
   },
   "outputs": [],
   "source": [
    "frequenciatreinamento = busca_frequencia(palavrastreinamento)\n",
    "frequenciateste = busca_frequencia(palavrasteste)"
   ]
  },
  {
   "cell_type": "code",
   "execution_count": 94,
   "metadata": {
    "collapsed": true
   },
   "outputs": [],
   "source": [
    "palavras_unicas_treinamento = busca_palavras_unicas(frequenciatreinamento)\n",
    "palavras_unicas_teste = busca_palavras_unicas(frequenciateste)"
   ]
  },
  {
   "cell_type": "code",
   "execution_count": 95,
   "metadata": {
    "collapsed": true
   },
   "outputs": [],
   "source": [
    "def extrator_palavras(documento):\n",
    "    doc = set(documento)\n",
    "    caracteristicas = {}\n",
    "    for palavras in palavras_unicas_treinamento:\n",
    "        caracteristicas['%s' %palavras] = (palavras in doc)\n",
    "        \n",
    "    return caracteristicas"
   ]
  },
  {
   "cell_type": "code",
   "execution_count": 96,
   "metadata": {
    "collapsed": true
   },
   "outputs": [],
   "source": [
    "basecompletatreinamento = nltk.classify.apply_features(extrator_palavras, frasescomstemmingtreinamento)"
   ]
  },
  {
   "cell_type": "code",
   "execution_count": 97,
   "metadata": {
    "collapsed": true
   },
   "outputs": [],
   "source": [
    "basecompletateste = nltk.classify.apply_features(extrator_palavras, frasescomstemmingteste)"
   ]
  },
  {
   "cell_type": "code",
   "execution_count": 98,
   "metadata": {
    "collapsed": true
   },
   "outputs": [],
   "source": [
    "classificador = nltk.NaiveBayesClassifier.train(basecompletatreinamento)"
   ]
  },
  {
   "cell_type": "code",
   "execution_count": 99,
   "metadata": {
    "collapsed": false
   },
   "outputs": [
    {
     "data": {
      "text/plain": [
       "0.9330855018587361"
      ]
     },
     "execution_count": 99,
     "metadata": {},
     "output_type": "execute_result"
    }
   ],
   "source": [
    "nltk.classify.accuracy(classificador, basecompletateste)"
   ]
  },
  {
   "cell_type": "markdown",
   "metadata": {},
   "source": [
    "# Visualizando erros"
   ]
  },
  {
   "cell_type": "code",
   "execution_count": 102,
   "metadata": {
    "collapsed": false
   },
   "outputs": [],
   "source": [
    "erros = []\n",
    "for (frase, classe) in basecompletateste:\n",
    "    resultado = classificador.classify((frase))\n",
    "    if resultado != classe:\n",
    "        erros.append((classe, resultado, frase))\n",
    "    "
   ]
  },
  {
   "cell_type": "code",
   "execution_count": 104,
   "metadata": {
    "collapsed": false
   },
   "outputs": [
    {
     "data": {
      "text/plain": [
       "36"
      ]
     },
     "execution_count": 104,
     "metadata": {},
     "output_type": "execute_result"
    }
   ],
   "source": [
    "len(erros)"
   ]
  },
  {
   "cell_type": "markdown",
   "metadata": {},
   "source": [
    "# Matriz de Confusão"
   ]
  },
  {
   "cell_type": "code",
   "execution_count": 105,
   "metadata": {
    "collapsed": true
   },
   "outputs": [],
   "source": [
    "from nltk.metrics import ConfusionMatrix"
   ]
  },
  {
   "cell_type": "code",
   "execution_count": 106,
   "metadata": {
    "collapsed": true
   },
   "outputs": [],
   "source": [
    "esperado = 'alegria alegria alegria alegria medo medo surpresa surpresa'.split()\n",
    "previsto = 'alegria alegria medo surpresa medo medo medo surpresa'.split()"
   ]
  },
  {
   "cell_type": "code",
   "execution_count": 108,
   "metadata": {
    "collapsed": false
   },
   "outputs": [
    {
     "name": "stdout",
     "output_type": "stream",
     "text": [
      "         |     s |\n",
      "         | a   u |\n",
      "         | l   r |\n",
      "         | e   p |\n",
      "         | g m r |\n",
      "         | r e e |\n",
      "         | i d s |\n",
      "         | a o a |\n",
      "---------+-------+\n",
      " alegria |<2>1 1 |\n",
      "    medo | .<2>. |\n",
      "surpresa | . 1<1>|\n",
      "---------+-------+\n",
      "(row = reference; col = test)\n",
      "\n"
     ]
    }
   ],
   "source": [
    "matriz = ConfusionMatrix(esperado, previsto)\n",
    "print matriz"
   ]
  },
  {
   "cell_type": "code",
   "execution_count": null,
   "metadata": {
    "collapsed": true
   },
   "outputs": [],
   "source": []
  }
 ],
 "metadata": {
  "anaconda-cloud": {},
  "kernelspec": {
   "display_name": "Python [conda root]",
   "language": "python",
   "name": "conda-root-py"
  },
  "language_info": {
   "codemirror_mode": {
    "name": "ipython",
    "version": 2
   },
   "file_extension": ".py",
   "mimetype": "text/x-python",
   "name": "python",
   "nbconvert_exporter": "python",
   "pygments_lexer": "ipython2",
   "version": "2.7.12"
  }
 },
 "nbformat": 4,
 "nbformat_minor": 2
}
