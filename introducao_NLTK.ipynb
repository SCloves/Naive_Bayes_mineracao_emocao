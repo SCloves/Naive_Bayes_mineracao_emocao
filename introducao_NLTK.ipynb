{
 "cells": [
  {
   "cell_type": "code",
   "execution_count": 11,
   "metadata": {
    "collapsed": false
   },
   "outputs": [],
   "source": [
    "import nltk"
   ]
  },
  {
   "cell_type": "code",
   "execution_count": 12,
   "metadata": {
    "collapsed": false
   },
   "outputs": [],
   "source": [
    "# instalar alguns paracotes\n",
    "# adicionais para o nltk\n",
    "# nltk.download()"
   ]
  },
  {
   "cell_type": "code",
   "execution_count": 30,
   "metadata": {
    "collapsed": false
   },
   "outputs": [],
   "source": [
    "texto = \"\"\"Geographically, they share a long border, which makes China a natural, though not inevitable, partner for trade. As a case in point, North Korea also shares a long border with South Korea, but these countries have almost no trade between them. In addition, North Korea shares a small border with Russia, with whom it has little, though ever-increasing, trade, as I discuss below.\"\"\""
   ]
  },
  {
   "cell_type": "code",
   "execution_count": 31,
   "metadata": {
    "collapsed": false
   },
   "outputs": [],
   "source": [
    "frases = nltk.tokenize.sent_tokenize(texto)"
   ]
  },
  {
   "cell_type": "code",
   "execution_count": 32,
   "metadata": {
    "collapsed": false
   },
   "outputs": [
    {
     "data": {
      "text/plain": [
       "['Geographically, they share a long border, which makes China a natural, though not inevitable, partner for trade.',\n",
       " 'As a case in point, North Korea also shares a long border with South Korea, but these countries have almost no trade between them.',\n",
       " 'In addition, North Korea shares a small border with Russia, with whom it has little, though ever-increasing, trade, as I discuss below.']"
      ]
     },
     "execution_count": 32,
     "metadata": {},
     "output_type": "execute_result"
    }
   ],
   "source": [
    "frases"
   ]
  },
  {
   "cell_type": "code",
   "execution_count": 33,
   "metadata": {
    "collapsed": true
   },
   "outputs": [],
   "source": [
    "tokens = nltk.word_tokenize(texto)"
   ]
  },
  {
   "cell_type": "code",
   "execution_count": 34,
   "metadata": {
    "collapsed": false
   },
   "outputs": [
    {
     "data": {
      "text/plain": [
       "['Geographically',\n",
       " ',',\n",
       " 'they',\n",
       " 'share',\n",
       " 'a',\n",
       " 'long',\n",
       " 'border',\n",
       " ',',\n",
       " 'which',\n",
       " 'makes',\n",
       " 'China',\n",
       " 'a',\n",
       " 'natural',\n",
       " ',',\n",
       " 'though',\n",
       " 'not',\n",
       " 'inevitable',\n",
       " ',',\n",
       " 'partner',\n",
       " 'for',\n",
       " 'trade',\n",
       " '.',\n",
       " 'As',\n",
       " 'a',\n",
       " 'case',\n",
       " 'in',\n",
       " 'point',\n",
       " ',',\n",
       " 'North',\n",
       " 'Korea',\n",
       " 'also',\n",
       " 'shares',\n",
       " 'a',\n",
       " 'long',\n",
       " 'border',\n",
       " 'with',\n",
       " 'South',\n",
       " 'Korea',\n",
       " ',',\n",
       " 'but',\n",
       " 'these',\n",
       " 'countries',\n",
       " 'have',\n",
       " 'almost',\n",
       " 'no',\n",
       " 'trade',\n",
       " 'between',\n",
       " 'them',\n",
       " '.',\n",
       " 'In',\n",
       " 'addition',\n",
       " ',',\n",
       " 'North',\n",
       " 'Korea',\n",
       " 'shares',\n",
       " 'a',\n",
       " 'small',\n",
       " 'border',\n",
       " 'with',\n",
       " 'Russia',\n",
       " ',',\n",
       " 'with',\n",
       " 'whom',\n",
       " 'it',\n",
       " 'has',\n",
       " 'little',\n",
       " ',',\n",
       " 'though',\n",
       " 'ever-increasing',\n",
       " ',',\n",
       " 'trade',\n",
       " ',',\n",
       " 'as',\n",
       " 'I',\n",
       " 'discuss',\n",
       " 'below',\n",
       " '.']"
      ]
     },
     "execution_count": 34,
     "metadata": {},
     "output_type": "execute_result"
    }
   ],
   "source": [
    "tokens"
   ]
  },
  {
   "cell_type": "code",
   "execution_count": 35,
   "metadata": {
    "collapsed": true
   },
   "outputs": [],
   "source": [
    "classes = nltk.pos_tag(tokens)"
   ]
  },
  {
   "cell_type": "code",
   "execution_count": 36,
   "metadata": {
    "collapsed": false
   },
   "outputs": [
    {
     "data": {
      "text/plain": [
       "[('Geographically', 'RB'),\n",
       " (',', ','),\n",
       " ('they', 'PRP'),\n",
       " ('share', 'NN'),\n",
       " ('a', 'DT'),\n",
       " ('long', 'JJ'),\n",
       " ('border', 'NN'),\n",
       " (',', ','),\n",
       " ('which', 'WDT'),\n",
       " ('makes', 'VBZ'),\n",
       " ('China', 'NNP'),\n",
       " ('a', 'DT'),\n",
       " ('natural', 'JJ'),\n",
       " (',', ','),\n",
       " ('though', 'IN'),\n",
       " ('not', 'RB'),\n",
       " ('inevitable', 'JJ'),\n",
       " (',', ','),\n",
       " ('partner', 'NN'),\n",
       " ('for', 'IN'),\n",
       " ('trade', 'NN'),\n",
       " ('.', '.'),\n",
       " ('As', 'IN'),\n",
       " ('a', 'DT'),\n",
       " ('case', 'NN'),\n",
       " ('in', 'IN'),\n",
       " ('point', 'NN'),\n",
       " (',', ','),\n",
       " ('North', 'NNP'),\n",
       " ('Korea', 'NNP'),\n",
       " ('also', 'RB'),\n",
       " ('shares', 'NNS'),\n",
       " ('a', 'DT'),\n",
       " ('long', 'JJ'),\n",
       " ('border', 'NN'),\n",
       " ('with', 'IN'),\n",
       " ('South', 'NNP'),\n",
       " ('Korea', 'NNP'),\n",
       " (',', ','),\n",
       " ('but', 'CC'),\n",
       " ('these', 'DT'),\n",
       " ('countries', 'NNS'),\n",
       " ('have', 'VBP'),\n",
       " ('almost', 'RB'),\n",
       " ('no', 'DT'),\n",
       " ('trade', 'NN'),\n",
       " ('between', 'IN'),\n",
       " ('them', 'PRP'),\n",
       " ('.', '.'),\n",
       " ('In', 'IN'),\n",
       " ('addition', 'NN'),\n",
       " (',', ','),\n",
       " ('North', 'NNP'),\n",
       " ('Korea', 'NNP'),\n",
       " ('shares', 'NNS'),\n",
       " ('a', 'DT'),\n",
       " ('small', 'JJ'),\n",
       " ('border', 'NN'),\n",
       " ('with', 'IN'),\n",
       " ('Russia', 'NNP'),\n",
       " (',', ','),\n",
       " ('with', 'IN'),\n",
       " ('whom', 'WP'),\n",
       " ('it', 'PRP'),\n",
       " ('has', 'VBZ'),\n",
       " ('little', 'JJ'),\n",
       " (',', ','),\n",
       " ('though', 'IN'),\n",
       " ('ever-increasing', 'JJ'),\n",
       " (',', ','),\n",
       " ('trade', 'NN'),\n",
       " (',', ','),\n",
       " ('as', 'IN'),\n",
       " ('I', 'PRP'),\n",
       " ('discuss', 'VBP'),\n",
       " ('below', 'IN'),\n",
       " ('.', '.')]"
      ]
     },
     "execution_count": 36,
     "metadata": {},
     "output_type": "execute_result"
    }
   ],
   "source": [
    "classes"
   ]
  },
  {
   "cell_type": "markdown",
   "metadata": {},
   "source": [
    "Ele atribuiu para cada palavra uma classe gramatical. Para saber o significado dessas abreviações entre consulte [Alphabetical list of part-of-speech tags used in the Penn Treebank Project](https://www.ling.upenn.edu/courses/Fall_2003/ling001/penn_treebank_pos.html)"
   ]
  },
  {
   "cell_type": "code",
   "execution_count": 37,
   "metadata": {
    "collapsed": true
   },
   "outputs": [],
   "source": [
    "entidades = nltk.chunk.ne_chunk(classes)"
   ]
  },
  {
   "cell_type": "code",
   "execution_count": 38,
   "metadata": {
    "collapsed": false
   },
   "outputs": [
    {
     "name": "stdout",
     "output_type": "stream",
     "text": [
      "(S\n",
      "  Geographically/RB\n",
      "  ,/,\n",
      "  they/PRP\n",
      "  share/NN\n",
      "  a/DT\n",
      "  long/JJ\n",
      "  border/NN\n",
      "  ,/,\n",
      "  which/WDT\n",
      "  makes/VBZ\n",
      "  (GPE China/NNP)\n",
      "  a/DT\n",
      "  natural/JJ\n",
      "  ,/,\n",
      "  though/IN\n",
      "  not/RB\n",
      "  inevitable/JJ\n",
      "  ,/,\n",
      "  partner/NN\n",
      "  for/IN\n",
      "  trade/NN\n",
      "  ./.\n",
      "  As/IN\n",
      "  a/DT\n",
      "  case/NN\n",
      "  in/IN\n",
      "  point/NN\n",
      "  ,/,\n",
      "  (GPE North/NNP Korea/NNP)\n",
      "  also/RB\n",
      "  shares/NNS\n",
      "  a/DT\n",
      "  long/JJ\n",
      "  border/NN\n",
      "  with/IN\n",
      "  (GPE South/NNP Korea/NNP)\n",
      "  ,/,\n",
      "  but/CC\n",
      "  these/DT\n",
      "  countries/NNS\n",
      "  have/VBP\n",
      "  almost/RB\n",
      "  no/DT\n",
      "  trade/NN\n",
      "  between/IN\n",
      "  them/PRP\n",
      "  ./.\n",
      "  In/IN\n",
      "  addition/NN\n",
      "  ,/,\n",
      "  (GPE North/NNP Korea/NNP)\n",
      "  shares/NNS\n",
      "  a/DT\n",
      "  small/JJ\n",
      "  border/NN\n",
      "  with/IN\n",
      "  (GPE Russia/NNP)\n",
      "  ,/,\n",
      "  with/IN\n",
      "  whom/WP\n",
      "  it/PRP\n",
      "  has/VBZ\n",
      "  little/JJ\n",
      "  ,/,\n",
      "  though/IN\n",
      "  ever-increasing/JJ\n",
      "  ,/,\n",
      "  trade/NN\n",
      "  ,/,\n",
      "  as/IN\n",
      "  I/PRP\n",
      "  discuss/VBP\n",
      "  below/IN\n",
      "  ./.)\n"
     ]
    }
   ],
   "source": [
    "print(entidades)"
   ]
  },
  {
   "cell_type": "markdown",
   "metadata": {},
   "source": [
    "[Documentação NLTK](http://www.nltk.org/)"
   ]
  },
  {
   "cell_type": "code",
   "execution_count": null,
   "metadata": {
    "collapsed": true
   },
   "outputs": [],
   "source": []
  }
 ],
 "metadata": {
  "anaconda-cloud": {},
  "kernelspec": {
   "display_name": "Python [default]",
   "language": "python",
   "name": "python2"
  },
  "language_info": {
   "codemirror_mode": {
    "name": "ipython",
    "version": 2
   },
   "file_extension": ".py",
   "mimetype": "text/x-python",
   "name": "python",
   "nbconvert_exporter": "python",
   "pygments_lexer": "ipython2",
   "version": "2.7.12"
  }
 },
 "nbformat": 4,
 "nbformat_minor": 2
}
