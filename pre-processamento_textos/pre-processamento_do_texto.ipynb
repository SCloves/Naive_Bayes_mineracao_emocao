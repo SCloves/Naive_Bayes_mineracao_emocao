{
 "cells": [
  {
   "cell_type": "code",
   "execution_count": 2,
   "metadata": {
    "collapsed": true
   },
   "outputs": [],
   "source": [
    "import nltk"
   ]
  },
  {
   "cell_type": "markdown",
   "metadata": {},
   "source": [
    "# Remoção das stopwords"
   ]
  },
  {
   "cell_type": "code",
   "execution_count": 3,
   "metadata": {
    "collapsed": true
   },
   "outputs": [],
   "source": [
    "base = [('eu sou admirada por muitos','alegria'),\n",
    "        ('me sinto completamente amado','alegria'),\n",
    "        ('amar e maravilhoso','alegria'),\n",
    "        ('estou me sentindo muito animado novamente','alegria'),\n",
    "        ('eu estou muito bem hoje','alegria'),\n",
    "        ('que belo dia para dirigir um carro novo','alegria'),\n",
    "        ('o dia está muito bonito','alegria'),\n",
    "        ('estou contente com o resultado do teste que fiz no dia de ontem','alegria'),\n",
    "        ('o amor e lindo','alegria'),\n",
    "        ('nossa amizade e amor vai durar para sempre', 'alegria'),\n",
    "        ('estou amedrontado', 'medo'),\n",
    "        ('ele esta me ameacando a dias', 'medo'),\n",
    "        ('isso me deixa apavorada', 'medo'),\n",
    "        ('este lugar e apavorante', 'medo'),\n",
    "        ('se perdermos outro jogo seremos eliminados e isso me deixa com pavor', 'medo'),\n",
    "        ('tome cuidado com o lobisomem', 'medo'),\n",
    "        ('se eles descobrirem estamos encrencados', 'medo'),\n",
    "        ('estou tremendo de medo', 'medo'),\n",
    "        ('eu tenho muito medo dele', 'medo'),\n",
    "        ('estou com medo do resultado dos meus testes', 'medo')]\n",
    "\n",
    "\n",
    "stopwords = ['a', 'agora', 'algum', 'alguma', 'aquele', 'aqueles', 'de', 'deu', 'do', 'e', 'estou', 'esta', 'esta',\n",
    "             'ir', 'meu', 'muito', 'mesmo', 'no', 'nossa', 'o', 'outro', 'para', 'que', 'sem', 'talvez', 'tem', 'tendo',\n",
    "             'tenha', 'teve', 'tive', 'todo', 'um', 'uma', 'umas', 'uns', 'vou']"
   ]
  },
  {
   "cell_type": "code",
   "execution_count": 12,
   "metadata": {
    "collapsed": true
   },
   "outputs": [],
   "source": [
    "def remove_stopwords(texto):\n",
    "    frases_sem_stopwords = []\n",
    "    for (frase, emocao) in texto:\n",
    "        sem_stopwords = [palavra for palavra in frase.split() if palavra not in stopwords]\n",
    "        frases_sem_stopwords.append((sem_stopwords, emocao))\n",
    "    \n",
    "    return frases_sem_stopwords"
   ]
  },
  {
   "cell_type": "code",
   "execution_count": 13,
   "metadata": {
    "collapsed": false
   },
   "outputs": [],
   "source": [
    "sem_stopwords = remove_stopwords(base)"
   ]
  },
  {
   "cell_type": "code",
   "execution_count": 11,
   "metadata": {
    "collapsed": false
   },
   "outputs": [
    {
     "data": {
      "text/plain": [
       "[(['eu', 'sou', 'admirada', 'por', 'muitos'], 'alegria'),\n",
       " (['me', 'sinto', 'completamente', 'amado'], 'alegria'),\n",
       " (['amar', 'maravilhoso'], 'alegria'),\n",
       " (['me', 'sentindo', 'animado', 'novamente'], 'alegria'),\n",
       " (['eu', 'bem', 'hoje'], 'alegria'),\n",
       " (['belo', 'dia', 'dirigir', 'carro', 'novo'], 'alegria'),\n",
       " (['dia', 'est\\xc3\\xa1', 'bonito'], 'alegria'),\n",
       " (['contente', 'com', 'resultado', 'teste', 'fiz', 'dia', 'ontem'], 'alegria'),\n",
       " (['amor', 'lindo'], 'alegria'),\n",
       " (['amizade', 'amor', 'vai', 'durar', 'sempre'], 'alegria'),\n",
       " (['amedrontado'], 'medo'),\n",
       " (['ele', 'me', 'ameacando', 'dias'], 'medo'),\n",
       " (['isso', 'me', 'deixa', 'apavorada'], 'medo'),\n",
       " (['este', 'lugar', 'apavorante'], 'medo'),\n",
       " (['se',\n",
       "   'perdermos',\n",
       "   'jogo',\n",
       "   'seremos',\n",
       "   'eliminados',\n",
       "   'isso',\n",
       "   'me',\n",
       "   'deixa',\n",
       "   'com',\n",
       "   'pavor'],\n",
       "  'medo'),\n",
       " (['tome', 'cuidado', 'com', 'lobisomem'], 'medo'),\n",
       " (['se', 'eles', 'descobrirem', 'estamos', 'encrencados'], 'medo'),\n",
       " (['tremendo', 'medo'], 'medo'),\n",
       " (['eu', 'tenho', 'medo', 'dele'], 'medo'),\n",
       " (['com', 'medo', 'resultado', 'dos', 'meus', 'testes'], 'medo')]"
      ]
     },
     "execution_count": 11,
     "metadata": {},
     "output_type": "execute_result"
    }
   ],
   "source": [
    "sem_stopwords"
   ]
  },
  {
   "cell_type": "code",
   "execution_count": 14,
   "metadata": {
    "collapsed": true
   },
   "outputs": [],
   "source": [
    "# melhor chamar uma lista de stopwords \n",
    "# mais completa no nltk\n",
    "\n",
    "stopwordsNLTK = nltk.corpus.stopwords.words('portuguese')"
   ]
  },
  {
   "cell_type": "code",
   "execution_count": 17,
   "metadata": {
    "collapsed": false
   },
   "outputs": [],
   "source": [
    "def remove_stopwords(texto):\n",
    "    frases_sem_stopwords = []\n",
    "    for (frase, emocao) in texto:\n",
    "        sem_stopwords = [palavra for palavra in frase.split() if palavra not in stopwordsNLTK]\n",
    "        frases_sem_stopwords.append((sem_stopwords, emocao))\n",
    "    \n",
    "    return frases_sem_stopwords"
   ]
  },
  {
   "cell_type": "code",
   "execution_count": 18,
   "metadata": {
    "collapsed": false
   },
   "outputs": [
    {
     "name": "stderr",
     "output_type": "stream",
     "text": [
      "/home/cloves/anaconda2/lib/python2.7/site-packages/ipykernel/__main__.py:4: UnicodeWarning: Unicode equal comparison failed to convert both arguments to Unicode - interpreting them as being unequal\n"
     ]
    }
   ],
   "source": [
    "sem_stopwords = remove_stopwords(base)"
   ]
  },
  {
   "cell_type": "code",
   "execution_count": 19,
   "metadata": {
    "collapsed": false
   },
   "outputs": [
    {
     "data": {
      "text/plain": [
       "[(['admirada', 'muitos'], 'alegria'),\n",
       " (['sinto', 'completamente', 'amado'], 'alegria'),\n",
       " (['amar', 'maravilhoso'], 'alegria'),\n",
       " (['sentindo', 'animado', 'novamente'], 'alegria'),\n",
       " (['bem', 'hoje'], 'alegria'),\n",
       " (['belo', 'dia', 'dirigir', 'carro', 'novo'], 'alegria'),\n",
       " (['dia', 'est\\xc3\\xa1', 'bonito'], 'alegria'),\n",
       " (['contente', 'resultado', 'teste', 'fiz', 'dia', 'ontem'], 'alegria'),\n",
       " (['amor', 'lindo'], 'alegria'),\n",
       " (['amizade', 'amor', 'vai', 'durar', 'sempre'], 'alegria'),\n",
       " (['amedrontado'], 'medo'),\n",
       " (['ameacando', 'dias'], 'medo'),\n",
       " (['deixa', 'apavorada'], 'medo'),\n",
       " (['lugar', 'apavorante'], 'medo'),\n",
       " (['perdermos', 'outro', 'jogo', 'eliminados', 'deixa', 'pavor'], 'medo'),\n",
       " (['tome', 'cuidado', 'lobisomem'], 'medo'),\n",
       " (['descobrirem', 'encrencados'], 'medo'),\n",
       " (['tremendo', 'medo'], 'medo'),\n",
       " (['medo'], 'medo'),\n",
       " (['medo', 'resultado', 'testes'], 'medo')]"
      ]
     },
     "execution_count": 19,
     "metadata": {},
     "output_type": "execute_result"
    }
   ],
   "source": [
    "sem_stopwords"
   ]
  },
  {
   "cell_type": "markdown",
   "metadata": {},
   "source": [
    "# Estração do Radical (Stemmer)\n",
    "\n",
    "<img src='radical.png'>"
   ]
  },
  {
   "cell_type": "code",
   "execution_count": 23,
   "metadata": {
    "collapsed": true
   },
   "outputs": [],
   "source": [
    "def aplicar_stemmer(texto):\n",
    "    stemmer = nltk.stem.RSLPStemmer()\n",
    "    frases = []\n",
    "    \n",
    "    for (frase, emocao) in sem_stopwords:\n",
    "        \n",
    "        com_stemmer = [stemmer.stem(palavra) for palavra in frase]\n",
    "        \n",
    "        frases.append((com_stemmer, emocao))\n",
    "        \n",
    "    return frases\n",
    "    "
   ]
  },
  {
   "cell_type": "code",
   "execution_count": 24,
   "metadata": {
    "collapsed": false
   },
   "outputs": [
    {
     "name": "stderr",
     "output_type": "stream",
     "text": [
      "/home/cloves/anaconda2/lib/python2.7/site-packages/nltk/stem/rslp.py:103: UnicodeWarning: Unicode equal comparison failed to convert both arguments to Unicode - interpreting them as being unequal\n",
      "  if word[-1] == \"s\":\n",
      "/home/cloves/anaconda2/lib/python2.7/site-packages/nltk/stem/rslp.py:107: UnicodeWarning: Unicode equal comparison failed to convert both arguments to Unicode - interpreting them as being unequal\n",
      "  if word[-1] == \"a\":\n",
      "/home/cloves/anaconda2/lib/python2.7/site-packages/nltk/stem/rslp.py:133: UnicodeWarning: Unicode equal comparison failed to convert both arguments to Unicode - interpreting them as being unequal\n",
      "  if word[-suffix_length:] == rule[0]:       # if suffix matches\n"
     ]
    }
   ],
   "source": [
    "frases = aplicar_stemmer(sem_stopwords)"
   ]
  },
  {
   "cell_type": "code",
   "execution_count": 25,
   "metadata": {
    "collapsed": false
   },
   "outputs": [
    {
     "data": {
      "text/plain": [
       "[([u'admir', u'muit'], 'alegria'),\n",
       " ([u'sint', u'complet', u'am'], 'alegria'),\n",
       " ([u'am', u'maravilh'], 'alegria'),\n",
       " ([u'sent', u'anim', u'nov'], 'alegria'),\n",
       " (['bem', u'hoj'], 'alegria'),\n",
       " ([u'bel', 'dia', u'dirig', u'carr', u'nov'], 'alegria'),\n",
       " (['dia', 'est\\xc3\\xa1', u'bonit'], 'alegria'),\n",
       " ([u'cont', u'result', u'test', 'fiz', 'dia', u'ont'], 'alegria'),\n",
       " ([u'am', u'lind'], 'alegria'),\n",
       " ([u'amizad', u'am', 'vai', u'dur', u'sempr'], 'alegria'),\n",
       " ([u'amedront'], 'medo'),\n",
       " ([u'ameac', u'dia'], 'medo'),\n",
       " ([u'deix', u'apavor'], 'medo'),\n",
       " ([u'lug', u'apavor'], 'medo'),\n",
       " ([u'perd', u'outr', u'jog', u'elimin', u'deix', u'pav'], 'medo'),\n",
       " ([u'tom', u'cuid', u'lobisom'], 'medo'),\n",
       " ([u'descobr', u'encrenc'], 'medo'),\n",
       " ([u'trem', u'med'], 'medo'),\n",
       " ([u'med'], 'medo'),\n",
       " ([u'med', u'result', u'test'], 'medo')]"
      ]
     },
     "execution_count": 25,
     "metadata": {},
     "output_type": "execute_result"
    }
   ],
   "source": [
    "frases"
   ]
  },
  {
   "cell_type": "markdown",
   "metadata": {},
   "source": [
    "# Criando lista de todas as palavras na minha base "
   ]
  },
  {
   "cell_type": "code",
   "execution_count": 26,
   "metadata": {
    "collapsed": true
   },
   "outputs": [],
   "source": [
    "def lista_todas_as_palavras(frases):\n",
    "    todas_palavras = []\n",
    "    for (palavras, _) in frases:\n",
    "        todas_palavras.extend(palavras)\n",
    "        \n",
    "    return todas_palavras"
   ]
  },
  {
   "cell_type": "code",
   "execution_count": 27,
   "metadata": {
    "collapsed": true
   },
   "outputs": [],
   "source": [
    "todas_palavras = lista_todas_as_palavras(frases)"
   ]
  },
  {
   "cell_type": "code",
   "execution_count": 28,
   "metadata": {
    "collapsed": false
   },
   "outputs": [
    {
     "data": {
      "text/plain": [
       "[u'admir',\n",
       " u'muit',\n",
       " u'sint',\n",
       " u'complet',\n",
       " u'am',\n",
       " u'am',\n",
       " u'maravilh',\n",
       " u'sent',\n",
       " u'anim',\n",
       " u'nov',\n",
       " 'bem',\n",
       " u'hoj',\n",
       " u'bel',\n",
       " 'dia',\n",
       " u'dirig',\n",
       " u'carr',\n",
       " u'nov',\n",
       " 'dia',\n",
       " 'est\\xc3\\xa1',\n",
       " u'bonit',\n",
       " u'cont',\n",
       " u'result',\n",
       " u'test',\n",
       " 'fiz',\n",
       " 'dia',\n",
       " u'ont',\n",
       " u'am',\n",
       " u'lind',\n",
       " u'amizad',\n",
       " u'am',\n",
       " 'vai',\n",
       " u'dur',\n",
       " u'sempr',\n",
       " u'amedront',\n",
       " u'ameac',\n",
       " u'dia',\n",
       " u'deix',\n",
       " u'apavor',\n",
       " u'lug',\n",
       " u'apavor',\n",
       " u'perd',\n",
       " u'outr',\n",
       " u'jog',\n",
       " u'elimin',\n",
       " u'deix',\n",
       " u'pav',\n",
       " u'tom',\n",
       " u'cuid',\n",
       " u'lobisom',\n",
       " u'descobr',\n",
       " u'encrenc',\n",
       " u'trem',\n",
       " u'med',\n",
       " u'med',\n",
       " u'med',\n",
       " u'result',\n",
       " u'test']"
      ]
     },
     "execution_count": 28,
     "metadata": {},
     "output_type": "execute_result"
    }
   ],
   "source": [
    "todas_palavras"
   ]
  },
  {
   "cell_type": "code",
   "execution_count": null,
   "metadata": {
    "collapsed": true
   },
   "outputs": [],
   "source": []
  }
 ],
 "metadata": {
  "anaconda-cloud": {},
  "kernelspec": {
   "display_name": "Python [conda root]",
   "language": "python",
   "name": "conda-root-py"
  },
  "language_info": {
   "codemirror_mode": {
    "name": "ipython",
    "version": 2
   },
   "file_extension": ".py",
   "mimetype": "text/x-python",
   "name": "python",
   "nbconvert_exporter": "python",
   "pygments_lexer": "ipython2",
   "version": "2.7.12"
  }
 },
 "nbformat": 4,
 "nbformat_minor": 2
}
