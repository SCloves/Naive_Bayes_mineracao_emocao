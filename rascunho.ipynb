{
 "cells": [
  {
   "cell_type": "code",
   "execution_count": 1,
   "metadata": {
    "collapsed": true
   },
   "outputs": [],
   "source": [
    "import nltk"
   ]
  },
  {
   "cell_type": "code",
   "execution_count": 6,
   "metadata": {
    "collapsed": true
   },
   "outputs": [],
   "source": [
    "comentarios = [('FORA DORIA SAO PAULO NAO PRECISA DE VOCE AONDE JA SE VIU ESSA MALDADE COM OS JOVENS', 0), \n",
    "               ('DORIA PRESIDENTE 2018 PRA O BRASIL MUDAR REALMENTE', 1)] "
   ]
  },
  {
   "cell_type": "code",
   "execution_count": 7,
   "metadata": {
    "collapsed": false
   },
   "outputs": [
    {
     "data": {
      "text/plain": [
       "[('FORA DORIA SAO PAULO NAO PRECISA DE VOCE AONDE JA SE VIU ESSA MALDADE COM OS JOVENS',\n",
       "  0),\n",
       " ('DORIA PRESIDENTE 2018 PRA O BRASIL MUDAR REALMENTE', 1)]"
      ]
     },
     "execution_count": 7,
     "metadata": {},
     "output_type": "execute_result"
    }
   ],
   "source": [
    "comentarios"
   ]
  },
  {
   "cell_type": "code",
   "execution_count": 45,
   "metadata": {
    "collapsed": true
   },
   "outputs": [],
   "source": [
    "stopwords = ['a', 'agora', 'algum', 'alguma', 'aquele', 'aqueles', 'de', 'deu', 'do', 'e', 'estou', 'esta', 'esta',\n",
    "             'ir', 'meu', 'muito', 'mesmo', 'no', 'nossa', 'o', 'outro', 'para', 'que', 'sem', 'talvez', 'tem', 'tendo',\n",
    "             'tenha', 'teve', 'tive', 'todo', 'um', 'uma', 'umas', 'uns', 'vou', 'pra', 'ja', 'se', 'com', 'os', 'as', 'ele',\n",
    "            'ela', 'eles', 'elas', 'nós', 'nos', 'também', 'tambem', 'blz', 'ok', 'olá', 'oi', 'essa', 'esse', 'aquelas',\n",
    "            'aqueles', 'isso', 'aquilo', 'essas', 'estes', 'onde', 'aonde']"
   ]
  },
  {
   "cell_type": "code",
   "execution_count": 46,
   "metadata": {
    "collapsed": true
   },
   "outputs": [],
   "source": [
    "def remove_stopwords(texto):\n",
    "    frases_sem_stopwords = []\n",
    "    for (frase, emocao) in texto:\n",
    "        sem_stopwords = [palavra for palavra in frase.split() if palavra.lower() not in stopwords]\n",
    "        frases_sem_stopwords.append((sem_stopwords, emocao))\n",
    "    \n",
    "    return frases_sem_stopwords"
   ]
  },
  {
   "cell_type": "code",
   "execution_count": 47,
   "metadata": {
    "collapsed": false
   },
   "outputs": [],
   "source": [
    "sem_stopwords = remove_stopwords(comentarios)"
   ]
  },
  {
   "cell_type": "code",
   "execution_count": 48,
   "metadata": {
    "collapsed": false
   },
   "outputs": [
    {
     "name": "stdout",
     "output_type": "stream",
     "text": [
      "[(['FORA', 'DORIA', 'SAO', 'PAULO', 'NAO', 'PRECISA', 'VOCE', 'VIU', 'MALDADE', 'JOVENS'], 0), (['DORIA', 'PRESIDENTE', '2018', 'BRASIL', 'MUDAR', 'REALMENTE'], 1)]\n"
     ]
    }
   ],
   "source": [
    "print sem_stopwords"
   ]
  },
  {
   "cell_type": "code",
   "execution_count": 49,
   "metadata": {
    "collapsed": true
   },
   "outputs": [],
   "source": [
    "def aplicar_stemmer(texto):\n",
    "    stemmer = nltk.stem.RSLPStemmer()\n",
    "    frases = []\n",
    "    \n",
    "    for (frase, emocao) in sem_stopwords:\n",
    "        \n",
    "        com_stemmer = [stemmer.stem(palavra) for palavra in frase]\n",
    "        \n",
    "        frases.append((com_stemmer, emocao))\n",
    "        \n",
    "    return frases"
   ]
  },
  {
   "cell_type": "code",
   "execution_count": 50,
   "metadata": {
    "collapsed": true
   },
   "outputs": [],
   "source": [
    "frases = aplicar_stemmer(sem_stopwords)"
   ]
  },
  {
   "cell_type": "code",
   "execution_count": 51,
   "metadata": {
    "collapsed": false
   },
   "outputs": [
    {
     "name": "stdout",
     "output_type": "stream",
     "text": [
      "[([u'for', u'dor', 'sao', u'paul', 'nao', u'precis', u'voc', 'viu', u'maldad', u'jov'], 0), ([u'dor', u'presid', '2018', 'brasil', u'mud', u'real'], 1)]\n"
     ]
    }
   ],
   "source": [
    "print(frases)"
   ]
  },
  {
   "cell_type": "code",
   "execution_count": null,
   "metadata": {
    "collapsed": true
   },
   "outputs": [],
   "source": []
  }
 ],
 "metadata": {
  "kernelspec": {
   "display_name": "Python [conda root]",
   "language": "python",
   "name": "conda-root-py"
  },
  "language_info": {
   "codemirror_mode": {
    "name": "ipython",
    "version": 2
   },
   "file_extension": ".py",
   "mimetype": "text/x-python",
   "name": "python",
   "nbconvert_exporter": "python",
   "pygments_lexer": "ipython2",
   "version": "2.7.12"
  }
 },
 "nbformat": 4,
 "nbformat_minor": 2
}
